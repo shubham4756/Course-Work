{
 "cells": [
  {
   "cell_type": "code",
   "execution_count": 7,
   "id": "eb3cdd1d",
   "metadata": {},
   "outputs": [
    {
     "name": "stdout",
     "output_type": "stream",
     "text": [
      "Imports loaded\n",
      "Skewness\n",
      "A            -0.060298\n",
      "B             0.166426\n",
      "C            -0.036257\n",
      "D             0.662782\n",
      "Left Skew    -0.615309\n",
      "Multimodal   -0.043677\n",
      "IQ20          0.274567\n",
      "IQ100         0.249707\n",
      "dtype: float64\n",
      "\n",
      "Kurtosis\n",
      "A            -0.292248\n",
      "B             0.063429\n",
      "C            -0.304000\n",
      "D             1.711042\n",
      "Left Skew    -0.499210\n",
      "Multimodal   -1.164263\n",
      "IQ20         -0.297661\n",
      "IQ100        -0.278870\n",
      "dtype: float64\n"
     ]
    }
   ],
   "source": [
    "import pandas as pd\n",
    "import math\n",
    "print(\"Imports loaded\")\n",
    "fname = \"Histograms.csv\"\n",
    "\n",
    "df = pd.read_csv(fname)\n",
    "# skewness analysis\n",
    "print(f\"Skewness\\n{df.skew()}\")\n",
    "print(\"\")\n",
    "\n",
    "# kurtosis analysis\n",
    "print(f\"Kurtosis\\n{df.kurt()}\")"
   ]
  },
  {
   "cell_type": "code",
   "execution_count": null,
   "id": "fd956f63",
   "metadata": {},
   "outputs": [],
   "source": []
  }
 ],
 "metadata": {
  "kernelspec": {
   "display_name": "Python 3",
   "language": "python",
   "name": "python3"
  },
  "language_info": {
   "codemirror_mode": {
    "name": "ipython",
    "version": 3
   },
   "file_extension": ".py",
   "mimetype": "text/x-python",
   "name": "python",
   "nbconvert_exporter": "python",
   "pygments_lexer": "ipython3",
   "version": "3.8.8"
  }
 },
 "nbformat": 4,
 "nbformat_minor": 5
}
