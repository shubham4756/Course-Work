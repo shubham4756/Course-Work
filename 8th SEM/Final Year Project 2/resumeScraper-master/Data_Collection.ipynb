{
 "cells": [
  {
   "cell_type": "code",
   "execution_count": 1,
   "id": "f42996f5",
   "metadata": {},
   "outputs": [],
   "source": [
    "# IMPORTS\n",
    "\n",
    "from bs4 import BeautifulSoup\n",
    "import bs4\n",
    "import requests\n",
    "from selenium import webdriver\n",
    "\n",
    "import pandas as pd\n",
    "import numpy as np"
   ]
  },
  {
   "cell_type": "code",
   "execution_count": 2,
   "id": "8dd5cf58",
   "metadata": {},
   "outputs": [
    {
     "name": "stderr",
     "output_type": "stream",
     "text": [
      "C:\\Users\\DELL\\AppData\\Local\\Temp/ipykernel_5288/2695741643.py:3: DeprecationWarning: executable_path has been deprecated, please pass in a Service object\n",
      "  driver = webdriver.Chrome(\"chromedriver.exe\")\n"
     ]
    }
   ],
   "source": [
    "# USING SPACY FOR WEB SCRAPPING\n",
    "\n",
    "driver = webdriver.Chrome(\"chromedriver.exe\")"
   ]
  },
  {
   "cell_type": "code",
   "execution_count": 3,
   "id": "f2476a95",
   "metadata": {},
   "outputs": [],
   "source": [
    "# LIST OF UNIQUE CATEGORIES THAT WAS NEEDED FOR THE DATASET.\n",
    "# ADD OR SUBTRACT LABELS AS NEEDED\n",
    "\n",
    "job_list = [\"software developer\" , \"data analyst\" , \"software product manager\" , \n",
    "            \"cloud engineer\" , \"data scientist\" , \"salesforce developer\" , \n",
    "            \"ios developer\" , \"database administrator\" , \"java developer\"]"
   ]
  },
  {
   "cell_type": "code",
   "execution_count": 4,
   "id": "2ec4c027",
   "metadata": {},
   "outputs": [],
   "source": [
    "# CREATING A DATAFRAME TO STORE THE LINKS OF EACH INDIVIDUAL RESUME EXAMPLE\n",
    "\n",
    "resume_links = pd.DataFrame()\n",
    "category = []\n",
    "link = []\n",
    "ids = []\n",
    "cnt = 0"
   ]
  },
  {
   "cell_type": "code",
   "execution_count": 5,
   "id": "d8074304",
   "metadata": {},
   "outputs": [
    {
     "name": "stderr",
     "output_type": "stream",
     "text": [
      "C:\\Users\\DELL\\AppData\\Local\\Temp/ipykernel_5288/1442043671.py:12: DeprecationWarning: find_elements_by_* commands are deprecated. Please use find_elements() instead\n",
      "  aTagsInLi = driver.find_elements_by_css_selector('li a')\n"
     ]
    }
   ],
   "source": [
    "# LOOP TO SEARCH FOR RESUME EXAMPLES FROM THE WEBPAGE AS PER THE LABELS DEFINED ABOVE. ONLY (10*12) 120 RESUMES WILL BE COLLECTED.\n",
    "\n",
    "# REMOVE  \"&bg=85&eg=100&comp=&mod=\"  TO EXPAND THE SEARCH \n",
    "# (bg=85 & eg=100) FILTERS THE RESUME BASED ON SCORE OF BETWEEEN 85 AND 100, INCREASE RANGE TO EXPAND SEARCH\n",
    "\n",
    "for job in job_list:\n",
    "    JOB = job.lower()\n",
    "    for i in range(1,6):   # INCREASE THE RANGE TO GET MORE RESUME DATA\n",
    "        PAGE = str(i)\n",
    "        URL = \"https://www.livecareer.com/resume-search/search?jt=\" + JOB + \"&bg=85&eg=100&comp=&mod=&pg=\" + PAGE\n",
    "        driver.get(URL)\n",
    "        aTagsInLi = driver.find_elements_by_css_selector('li a')\n",
    "        for a in aTagsInLi:\n",
    "            if a.get_attribute('rel') == \"ugc\":\n",
    "                category.append(JOB)\n",
    "                link.append(a.get_attribute('href'))\n",
    "                ids.append(cnt)\n",
    "                cnt+=1\n",
    "    "
   ]
  },
  {
   "cell_type": "code",
   "execution_count": 6,
   "id": "79ccebe9",
   "metadata": {},
   "outputs": [],
   "source": [
    "# STORES THE CATEGORY AND LINK TO THE RESUME WEBPAGE\n",
    "\n",
    "# resume_links[\"Category\"] = category\n",
    "# resume_links[\"link\"] = link"
   ]
  },
  {
   "cell_type": "code",
   "execution_count": 7,
   "id": "458ca2f0",
   "metadata": {},
   "outputs": [],
   "source": [
    "# HASHES THE LINK AND CREATES AN UNIQUE ID FOR THE ROWS\n",
    "\n",
    "# import hashlib\n",
    "# def id(x):\n",
    "#     return int(hashlib.md5(x.encode('utf-8')).hexdigest(), 16)\n",
    "\n",
    "# resume_links[\"id\"] = resume_links[\"link\"].apply(id)"
   ]
  },
  {
   "cell_type": "code",
   "execution_count": 8,
   "id": "a7cf1106",
   "metadata": {},
   "outputs": [],
   "source": [
    "# NUMBER OF RESUME COLLECTED PER DEFINED LABELS\n",
    "\n",
    "# resume_links.Category.value_counts()"
   ]
  },
  {
   "cell_type": "code",
   "execution_count": 9,
   "id": "6c536f59",
   "metadata": {},
   "outputs": [],
   "source": [
    "resume_links = pd.DataFrame(columns=['id', 'category', 'resume'])  \n",
    "# resume_links[\"Raw_html\"] = \"\""
   ]
  },
  {
   "cell_type": "code",
   "execution_count": 10,
   "id": "8385e05c",
   "metadata": {},
   "outputs": [],
   "source": [
    "# LOOP TO COLLECT THE RESUME DATA PRESENT IN THE LINKS AS COLECTED ABOVE\n",
    "# STORED IN HTML AS WELL AS STRING FORMAT\n",
    "\n",
    "\n",
    "for i in range(0,len(link)):\n",
    "    url = link[i]\n",
    "    driver.get(url)\n",
    "#     time.sleep(0.5)                  #ADDED DELAY, CAN BE REMOVED\n",
    "    x = driver.page_source\n",
    "    x = x.replace(\">\",\"> \")\n",
    "    soup = bs4.BeautifulSoup(x, 'html.parser')\n",
    "    div = soup.find(\"div\", {\"id\": \"document\"})\n",
    "#     resume_links.Raw_html[i] = div\n",
    "    try:\n",
    "        temp = str(div.text)\n",
    "#         resume_links.Category.append(category[i])\n",
    "#         resume_links.id.append(ids[i])\n",
    "#         resume_links.Resume.append(temp)\n",
    "        resume_links.loc[len(resume_links.index)] = [ids[i], category[i], temp]\n",
    "    except:\n",
    "#         ADD EXCEPTION IF REQUIRED\n",
    "        pass\n",
    "\n"
   ]
  },
  {
   "cell_type": "code",
   "execution_count": 11,
   "id": "5b0394ac",
   "metadata": {},
   "outputs": [
    {
     "data": {
      "text/html": [
       "<div>\n",
       "<style scoped>\n",
       "    .dataframe tbody tr th:only-of-type {\n",
       "        vertical-align: middle;\n",
       "    }\n",
       "\n",
       "    .dataframe tbody tr th {\n",
       "        vertical-align: top;\n",
       "    }\n",
       "\n",
       "    .dataframe thead th {\n",
       "        text-align: right;\n",
       "    }\n",
       "</style>\n",
       "<table border=\"1\" class=\"dataframe\">\n",
       "  <thead>\n",
       "    <tr style=\"text-align: right;\">\n",
       "      <th></th>\n",
       "      <th>id</th>\n",
       "      <th>category</th>\n",
       "      <th>resume</th>\n",
       "    </tr>\n",
       "  </thead>\n",
       "  <tbody>\n",
       "    <tr>\n",
       "      <th>0</th>\n",
       "      <td>1</td>\n",
       "      <td>software developer</td>\n",
       "      <td>SOFTWARE  DEVELOPER  INTERN          ...</td>\n",
       "    </tr>\n",
       "    <tr>\n",
       "      <th>1</th>\n",
       "      <td>2</td>\n",
       "      <td>software developer</td>\n",
       "      <td>SOFTWARE DEVELOPER       Professional...</td>\n",
       "    </tr>\n",
       "    <tr>\n",
       "      <th>2</th>\n",
       "      <td>3</td>\n",
       "      <td>software developer</td>\n",
       "      <td>GIS ANALYST/SOFTWARE DEVELOPER       ...</td>\n",
       "    </tr>\n",
       "    <tr>\n",
       "      <th>3</th>\n",
       "      <td>4</td>\n",
       "      <td>software developer</td>\n",
       "      <td>SENIOR SOFTWARE DEVELOPER       Caree...</td>\n",
       "    </tr>\n",
       "    <tr>\n",
       "      <th>4</th>\n",
       "      <td>5</td>\n",
       "      <td>software developer</td>\n",
       "      <td>SENIOR SOFTWARE DEVELOPER       Summa...</td>\n",
       "    </tr>\n",
       "  </tbody>\n",
       "</table>\n",
       "</div>"
      ],
      "text/plain": [
       "  id            category                                             resume\n",
       "0  1  software developer           SOFTWARE  DEVELOPER  INTERN          ...\n",
       "1  2  software developer           SOFTWARE DEVELOPER       Professional...\n",
       "2  3  software developer           GIS ANALYST/SOFTWARE DEVELOPER       ...\n",
       "3  4  software developer           SENIOR SOFTWARE DEVELOPER       Caree...\n",
       "4  5  software developer           SENIOR SOFTWARE DEVELOPER       Summa..."
      ]
     },
     "execution_count": 11,
     "metadata": {},
     "output_type": "execute_result"
    }
   ],
   "source": [
    "resume_links.head()"
   ]
  },
  {
   "cell_type": "code",
   "execution_count": 12,
   "id": "3bedc707",
   "metadata": {},
   "outputs": [],
   "source": [
    "# STORES THE DATAFRAME\n",
    "\n",
    "resume_links.to_csv(\"Resume.csv\",index=False)"
   ]
  },
  {
   "cell_type": "code",
   "execution_count": null,
   "id": "a820e197",
   "metadata": {},
   "outputs": [],
   "source": []
  }
 ],
 "metadata": {
  "kernelspec": {
   "display_name": "Python 3 (ipykernel)",
   "language": "python",
   "name": "python3"
  },
  "language_info": {
   "codemirror_mode": {
    "name": "ipython",
    "version": 3
   },
   "file_extension": ".py",
   "mimetype": "text/x-python",
   "name": "python",
   "nbconvert_exporter": "python",
   "pygments_lexer": "ipython3",
   "version": "3.9.7"
  }
 },
 "nbformat": 4,
 "nbformat_minor": 5
}
