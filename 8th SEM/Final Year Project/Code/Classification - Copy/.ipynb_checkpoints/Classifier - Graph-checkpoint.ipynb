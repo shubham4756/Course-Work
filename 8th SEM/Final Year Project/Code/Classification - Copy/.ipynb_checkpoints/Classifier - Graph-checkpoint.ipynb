{
 "cells": [
  {
   "cell_type": "code",
   "execution_count": 1,
   "id": "a2213768",
   "metadata": {
    "colab": {
     "base_uri": "https://localhost:8080/",
     "height": 310
    },
    "id": "a2213768",
    "outputId": "60429944-7d9a-47fd-c4fe-7c5b386ae86b"
   },
   "outputs": [
    {
     "name": "stderr",
     "output_type": "stream",
     "text": [
      "[nltk_data] Error loading wordnet: <urlopen error [Errno 2] No such\n",
      "[nltk_data]     file or directory>\n",
      "[nltk_data] Downloading package averaged_perceptron_tagger to\n",
      "[nltk_data]     C:\\Users\\DELL\\AppData\\Roaming\\nltk_data...\n",
      "[nltk_data]   Package averaged_perceptron_tagger is already up-to-\n",
      "[nltk_data]       date!\n"
     ]
    },
    {
     "data": {
      "text/html": [
       "<div>\n",
       "<style scoped>\n",
       "    .dataframe tbody tr th:only-of-type {\n",
       "        vertical-align: middle;\n",
       "    }\n",
       "\n",
       "    .dataframe tbody tr th {\n",
       "        vertical-align: top;\n",
       "    }\n",
       "\n",
       "    .dataframe thead th {\n",
       "        text-align: right;\n",
       "    }\n",
       "</style>\n",
       "<table border=\"1\" class=\"dataframe\">\n",
       "  <thead>\n",
       "    <tr style=\"text-align: right;\">\n",
       "      <th></th>\n",
       "      <th>title</th>\n",
       "      <th>description</th>\n",
       "      <th>skills</th>\n",
       "      <th>cleaned_jd</th>\n",
       "    </tr>\n",
       "  </thead>\n",
       "  <tbody>\n",
       "    <tr>\n",
       "      <th>0</th>\n",
       "      <td>ux designer</td>\n",
       "      <td>Our client is seeking a UI/UX Designer.   Loca...</td>\n",
       "      <td>CSS, Development, HTML, HTTP, JavaScript, Mana...</td>\n",
       "      <td></td>\n",
       "    </tr>\n",
       "    <tr>\n",
       "      <th>1</th>\n",
       "      <td>ux designer</td>\n",
       "      <td>Position Description:Wipro Digital is seeking ...</td>\n",
       "      <td>UX Designing</td>\n",
       "      <td></td>\n",
       "    </tr>\n",
       "    <tr>\n",
       "      <th>2</th>\n",
       "      <td>ux designer</td>\n",
       "      <td>HIGreetings from Data inc!!! Hope you are doin...</td>\n",
       "      <td>\"ui designer\" , \"user interface designer\" , \"v...</td>\n",
       "      <td></td>\n",
       "    </tr>\n",
       "    <tr>\n",
       "      <th>3</th>\n",
       "      <td>ux designer</td>\n",
       "      <td>Our team is looking for an experienced UI/UX D...</td>\n",
       "      <td>HTML 5, CSS3, jQuery, php, bootstrap, Angular</td>\n",
       "      <td></td>\n",
       "    </tr>\n",
       "    <tr>\n",
       "      <th>4</th>\n",
       "      <td>ux designer</td>\n",
       "      <td>Hi, Please send me your updated resume on raje...</td>\n",
       "      <td>UX Designer</td>\n",
       "      <td></td>\n",
       "    </tr>\n",
       "  </tbody>\n",
       "</table>\n",
       "</div>"
      ],
      "text/plain": [
       "         title                                        description  \\\n",
       "0  ux designer  Our client is seeking a UI/UX Designer.   Loca...   \n",
       "1  ux designer  Position Description:Wipro Digital is seeking ...   \n",
       "2  ux designer  HIGreetings from Data inc!!! Hope you are doin...   \n",
       "3  ux designer  Our team is looking for an experienced UI/UX D...   \n",
       "4  ux designer  Hi, Please send me your updated resume on raje...   \n",
       "\n",
       "                                              skills cleaned_jd  \n",
       "0  CSS, Development, HTML, HTTP, JavaScript, Mana...             \n",
       "1                                       UX Designing             \n",
       "2  \"ui designer\" , \"user interface designer\" , \"v...             \n",
       "3      HTML 5, CSS3, jQuery, php, bootstrap, Angular             \n",
       "4                                        UX Designer             "
      ]
     },
     "execution_count": 1,
     "metadata": {},
     "output_type": "execute_result"
    }
   ],
   "source": [
    "import pandas as pd\n",
    "import numpy as np\n",
    "import gensim\n",
    "from sklearn.linear_model import LogisticRegression\n",
    "from gensim.models.doc2vec import TaggedDocument\n",
    "import matplotlib.pyplot as plt\n",
    "import seaborn as sns\n",
    "from sklearn.metrics import accuracy_score, f1_score\n",
    "from sklearn.metrics import roc_curve, roc_auc_score\n",
    "from sklearn.naive_bayes import MultinomialNB\n",
    "from sklearn.preprocessing import MinMaxScaler\n",
    "from sklearn.pipeline import Pipeline\n",
    "from sklearn.multiclass import OneVsRestClassifier\n",
    "from sklearn.neighbors import KNeighborsClassifier\n",
    "from sklearn import metrics\n",
    "from sklearn.svm import SVC\n",
    "from tqdm import tqdm\n",
    "tqdm.pandas(desc=\"progress-bar\")\n",
    "from gensim.models import Doc2Vec\n",
    "import multiprocessing\n",
    "from sklearn import utils\n",
    "from sklearn.model_selection import train_test_split\n",
    "from gensim.parsing.preprocessing import remove_stopwords\n",
    "from gensim.utils import simple_preprocess\n",
    "import matplotlib.pyplot as plt\n",
    "from gensim.parsing.porter import PorterStemmer\n",
    "from nltk.stem import WordNetLemmatizer\n",
    "import re\n",
    "import nltk\n",
    "nltk.download('wordnet')\n",
    "nltk.download('averaged_perceptron_tagger')\n",
    "\n",
    "jdDataSet = pd.read_excel('jd_dataset_new.xlsx')\n",
    "jdDataSet['cleaned_jd'] = ''\n",
    "jdDataSet.head()"
   ]
  },
  {
   "cell_type": "code",
   "execution_count": 2,
   "id": "ed285a0f",
   "metadata": {
    "id": "ed285a0f"
   },
   "outputs": [],
   "source": [
    "def clean(text):\n",
    "    text = re.sub('http\\S+\\s*', ' ', text)  # remove URLs\n",
    "    text = re.sub('RT|cc', ' ', text)  # remove RT and cc\n",
    "    text = re.sub('#\\S+', '', text)  # remove hashtags\n",
    "    text = re.sub('@\\S+', '  ', text)  # remove mentions\n",
    "    text = re.sub('[%s]' % re.escape(\"\"\"!\"$%&'()*,-/:;<=>?@[\\]^_`{|}~\"\"\"), ' ', text)  # remove punctuations\n",
    "    text = re.sub(r'[^\\x00-\\x7f]',r' ', text) \n",
    "    text = re.sub('\\s+', ' ', text)  # remove extra whitespace\n",
    "    return text"
   ]
  },
  {
   "cell_type": "code",
   "execution_count": 3,
   "id": "q2UjRMZdKXr3",
   "metadata": {
    "id": "q2UjRMZdKXr3"
   },
   "outputs": [],
   "source": [
    "def extractNoun(wordsList):\n",
    "    tagged = nltk.pos_tag(wordsList)\n",
    "    filtered_pos = []\n",
    "    for one in tagged:\n",
    "        if one[1] == 'NN' or one[1] == 'NNS' or one[1] == 'NNP' or one[1] == 'NNPS':\n",
    "            filtered_pos.append(one[0])\n",
    "    return filtered_pos"
   ]
  },
  {
   "cell_type": "code",
   "execution_count": 4,
   "id": "08da0228",
   "metadata": {
    "colab": {
     "background_save": true
    },
    "id": "08da0228"
   },
   "outputs": [
    {
     "data": {
      "text/plain": [
       "0       [client, seek, design, locat, bethesda, md, po...\n",
       "1       [posit, descript, digit, seek, design, deliv, ...\n",
       "2       [higreet, data, financi, client, design, role,...\n",
       "3       [team, look, design, basi, resid, francisco, b...\n",
       "4       [hi, plea, resum, interest, posit, design, loc...\n",
       "                              ...                        \n",
       "2495    [plea, email, resum, shveta, lead, sr, data, e...\n",
       "2496            [need, data, expertis, sql, python, hive]\n",
       "2497    [bach, degre, posit, plea, resum, word, format...\n",
       "2498    [titl, data, boston, madur, competit, doe, can...\n",
       "2499    [data, engineerjob, data, support, quantit, en...\n",
       "Name: cleaned_jd, Length: 2500, dtype: object"
      ]
     },
     "execution_count": 4,
     "metadata": {},
     "output_type": "execute_result"
    }
   ],
   "source": [
    "#cleaning data\n",
    "jdDataSet['cleaned_jd'] = jdDataSet.description.apply(lambda x: clean(x))\n",
    "\n",
    "# Removing the stop words\n",
    "jdDataSet['cleaned_jd'] = jdDataSet.cleaned_jd.apply(lambda x: remove_stopwords(x))\n",
    "\n",
    "# Tokenize the text column\n",
    "jdDataSet['cleaned_jd'] = [simple_preprocess(line, deacc=True) for line in jdDataSet['cleaned_jd']] \n",
    "\n",
    "# Get the stemmed_tokens\n",
    "porter_stemmer = PorterStemmer()\n",
    "jdDataSet['cleaned_jd'] = [[porter_stemmer.stem(word) for word in tokens] for tokens in jdDataSet['cleaned_jd'] ]\n",
    "\n",
    "# get the lammatized tokens\n",
    "lemmatizer = WordNetLemmatizer() \n",
    "jdDataSet['cleaned_jd'] = [[lemmatizer.lemmatize(word) for word in tokens] for tokens in jdDataSet['cleaned_jd'] ]\n",
    "\n",
    "# extract only noun \n",
    "jdDataSet['cleaned_jd'] = jdDataSet.cleaned_jd.apply(lambda x: extractNoun(x))\n",
    "\n",
    "jdDataSet['cleaned_jd']"
   ]
  },
  {
   "cell_type": "code",
   "execution_count": 5,
   "id": "86e3a644",
   "metadata": {
    "colab": {
     "background_save": true
    },
    "id": "86e3a644"
   },
   "outputs": [
    {
     "data": {
      "text/plain": [
       "0       [client, seek, design, locat, bethesda, md, po...\n",
       "1       [posit, descript, digit, seek, design, deliv, ...\n",
       "2       [higreet, data, financi, client, design, role,...\n",
       "3       [team, look, design, basi, resid, francisco, b...\n",
       "4       [hi, plea, resum, interest, posit, design, loc...\n",
       "                              ...                        \n",
       "2495    [plea, email, resum, shveta, lead, sr, data, e...\n",
       "2496    [need, data, expertis, sql, python, hive, sql,...\n",
       "2497    [bach, degre, posit, plea, resum, word, format...\n",
       "2498    [titl, data, boston, madur, competit, doe, can...\n",
       "2499    [data, engineerjob, data, support, quantit, en...\n",
       "Name: cleaned_jd, Length: 2500, dtype: object"
      ]
     },
     "execution_count": 5,
     "metadata": {},
     "output_type": "execute_result"
    }
   ],
   "source": [
    "# to do classification only skilss\n",
    "def extractSkills(string):\n",
    "    if isinstance(string,float):\n",
    "        return [\" \",\" \"]\n",
    "    lst = string.split(',')\n",
    "    lst = [s.strip() for s in lst]\n",
    "    lst = [skill.lower() for skill in lst]\n",
    "    return lst\n",
    "\n",
    "jdDataSet['cleaned_jd'] += jdDataSet.skills.apply(lambda x: list(extractSkills(x)) + list(extractSkills(x)))\n",
    "\n",
    "jdDataSet['cleaned_jd']"
   ]
  },
  {
   "cell_type": "code",
   "execution_count": 6,
   "id": "441ac4d5",
   "metadata": {
    "colab": {
     "background_save": true
    },
    "id": "441ac4d5"
   },
   "outputs": [],
   "source": [
    "train, test = train_test_split(jdDataSet, test_size=0.3, random_state=40)\n",
    "\n",
    "train_tagged = train.apply( lambda r: TaggedDocument(words=r['cleaned_jd'], tags=[r.title]), axis=1)\n",
    "test_tagged = test.apply( lambda r: TaggedDocument(words=r['cleaned_jd'], tags=[r.title]), axis=1)"
   ]
  },
  {
   "cell_type": "code",
   "execution_count": 7,
   "id": "df1f5138",
   "metadata": {},
   "outputs": [],
   "source": [
    "def vec_for_learning(model, tagged_docs):\n",
    "    sents = tagged_docs.values\n",
    "    targets, regressors = zip(*[(doc.tags[0], model.infer_vector(doc.words,alpha=0.065)) for doc in sents])\n",
    "    return targets, regressors"
   ]
  },
  {
   "cell_type": "code",
   "execution_count": 8,
   "id": "1a1eb661",
   "metadata": {},
   "outputs": [],
   "source": [
    "# from gensim.test.test_doc2vec import ConcatenatedDoc2Vec\n",
    "class ConcatenatedDocvecs(object):\n",
    "    def __init__(self, models):\n",
    "        self.models = models\n",
    "\n",
    "    def __getitem__(self, token):\n",
    "        return np.concatenate([model[token] for model in self.models])\n",
    "\n",
    "class ConcatenatedDoc2Vec(object):\n",
    "    \"\"\"\n",
    "    Concatenation of multiple models for reproducing the Paragraph Vectors paper.\n",
    "    Models must have exactly-matching vocabulary and document IDs. (Models should\n",
    "    be trained separately; this wrapper just returns concatenated results.)\n",
    "    \"\"\"\n",
    "\n",
    "    def __init__(self, models):\n",
    "        self.models = models\n",
    "        if hasattr(models[0], 'docvecs'):\n",
    "            self.docvecs = ConcatenatedDocvecs([model.docvecs for model in models])\n",
    "\n",
    "    def __getitem__(self, token):\n",
    "        return np.concatenate([model[token] for model in self.models])\n",
    "\n",
    "    def infer_vector(self, document, alpha=0.065, min_alpha=0.065, steps=20):\n",
    "        return np.concatenate([model.infer_vector(document, alpha, min_alpha, steps) for model in self.models])\n",
    "\n",
    "    def train(self, *ignore_args, **ignore_kwargs):\n",
    "        pass  # train subcomponents individually"
   ]
  },
  {
   "cell_type": "code",
   "execution_count": 23,
   "id": "07faf525",
   "metadata": {
    "colab": {
     "background_save": true
    },
    "id": "07faf525"
   },
   "outputs": [],
   "source": [
    "def model_accuracy(vector_sz=325,window_sz=15,Epochs_Num=25):\n",
    "    model_dbow = Doc2Vec(dm=0, vector_size=vector_sz, negative=5, window=window_sz, min_count=2, workers=5,alpha=0.065, min_alpha=0.065)\n",
    "    model_dbow.build_vocab(train_tagged.values)\n",
    "    for epoch in range(Epochs_Num):\n",
    "        model_dbow.train(utils.shuffle(train_tagged.values), total_examples=len(train_tagged.values), epochs=1)\n",
    "        model_dbow.alpha -= 0.002\n",
    "        model_dbow.min_alpha = model_dbow.alpha\n",
    "\n",
    "    model_dmm = Doc2Vec(dm=1, dm_mean=1, vector_size=vector_sz, negative=5, window=window_sz, min_count=2, workers=5, alpha=0.065, min_alpha=0.065)\n",
    "    model_dmm.build_vocab(train_tagged.values)\n",
    "    for epoch in range(Epochs_Num):\n",
    "        model_dmm.train(utils.shuffle(train_tagged.values), total_examples=len(train_tagged.values), epochs=1)\n",
    "        model_dmm.alpha -= 0.002\n",
    "        model_dmm.min_alpha = model_dmm.alpha\n",
    "\n",
    "    new_model = ConcatenatedDoc2Vec([model_dbow, model_dmm])\n",
    "\n",
    "    y_train, X_train = vec_for_learning(new_model, train_tagged)\n",
    "    y_test, X_test = vec_for_learning(new_model, test_tagged)\n",
    "\n",
    "    logreg = LogisticRegression(n_jobs=1, C=1e10,max_iter=30000)\n",
    "    logreg.fit(X_train, y_train)\n",
    "    y_pred = logreg.predict(X_test)\n",
    "    return [accuracy_score(y_test, y_pred),f1_score(y_test, y_pred, average='weighted')]"
   ]
  },
  {
   "cell_type": "code",
   "execution_count": 14,
   "id": "19f6c6be",
   "metadata": {},
   "outputs": [
    {
     "name": "stderr",
     "output_type": "stream",
     "text": [
      "C:\\Users\\DELL\\AppData\\Local\\Temp/ipykernel_10308/261005283.py:18: DeprecationWarning: Call to deprecated `docvecs` (The `docvecs` property has been renamed `dv`.).\n",
      "  if hasattr(models[0], 'docvecs'):\n",
      "C:\\Users\\DELL\\AppData\\Local\\Temp/ipykernel_10308/261005283.py:19: DeprecationWarning: Call to deprecated `docvecs` (The `docvecs` property has been renamed `dv`.).\n",
      "  self.docvecs = ConcatenatedDocvecs([model.docvecs for model in models])\n",
      "C:\\Users\\DELL\\AppData\\Local\\Temp/ipykernel_10308/261005283.py:18: DeprecationWarning: Call to deprecated `docvecs` (The `docvecs` property has been renamed `dv`.).\n",
      "  if hasattr(models[0], 'docvecs'):\n",
      "C:\\Users\\DELL\\AppData\\Local\\Temp/ipykernel_10308/261005283.py:19: DeprecationWarning: Call to deprecated `docvecs` (The `docvecs` property has been renamed `dv`.).\n",
      "  self.docvecs = ConcatenatedDocvecs([model.docvecs for model in models])\n",
      "C:\\Users\\DELL\\AppData\\Local\\Temp/ipykernel_10308/261005283.py:18: DeprecationWarning: Call to deprecated `docvecs` (The `docvecs` property has been renamed `dv`.).\n",
      "  if hasattr(models[0], 'docvecs'):\n",
      "C:\\Users\\DELL\\AppData\\Local\\Temp/ipykernel_10308/261005283.py:19: DeprecationWarning: Call to deprecated `docvecs` (The `docvecs` property has been renamed `dv`.).\n",
      "  self.docvecs = ConcatenatedDocvecs([model.docvecs for model in models])\n",
      "C:\\Users\\DELL\\AppData\\Local\\Temp/ipykernel_10308/261005283.py:18: DeprecationWarning: Call to deprecated `docvecs` (The `docvecs` property has been renamed `dv`.).\n",
      "  if hasattr(models[0], 'docvecs'):\n",
      "C:\\Users\\DELL\\AppData\\Local\\Temp/ipykernel_10308/261005283.py:19: DeprecationWarning: Call to deprecated `docvecs` (The `docvecs` property has been renamed `dv`.).\n",
      "  self.docvecs = ConcatenatedDocvecs([model.docvecs for model in models])\n",
      "C:\\Users\\DELL\\AppData\\Local\\Temp/ipykernel_10308/261005283.py:18: DeprecationWarning: Call to deprecated `docvecs` (The `docvecs` property has been renamed `dv`.).\n",
      "  if hasattr(models[0], 'docvecs'):\n",
      "C:\\Users\\DELL\\AppData\\Local\\Temp/ipykernel_10308/261005283.py:19: DeprecationWarning: Call to deprecated `docvecs` (The `docvecs` property has been renamed `dv`.).\n",
      "  self.docvecs = ConcatenatedDocvecs([model.docvecs for model in models])\n",
      "C:\\Users\\DELL\\AppData\\Local\\Temp/ipykernel_10308/261005283.py:18: DeprecationWarning: Call to deprecated `docvecs` (The `docvecs` property has been renamed `dv`.).\n",
      "  if hasattr(models[0], 'docvecs'):\n",
      "C:\\Users\\DELL\\AppData\\Local\\Temp/ipykernel_10308/261005283.py:19: DeprecationWarning: Call to deprecated `docvecs` (The `docvecs` property has been renamed `dv`.).\n",
      "  self.docvecs = ConcatenatedDocvecs([model.docvecs for model in models])\n",
      "C:\\Users\\DELL\\AppData\\Local\\Temp/ipykernel_10308/261005283.py:18: DeprecationWarning: Call to deprecated `docvecs` (The `docvecs` property has been renamed `dv`.).\n",
      "  if hasattr(models[0], 'docvecs'):\n",
      "C:\\Users\\DELL\\AppData\\Local\\Temp/ipykernel_10308/261005283.py:19: DeprecationWarning: Call to deprecated `docvecs` (The `docvecs` property has been renamed `dv`.).\n",
      "  self.docvecs = ConcatenatedDocvecs([model.docvecs for model in models])\n",
      "C:\\Users\\DELL\\AppData\\Local\\Temp/ipykernel_10308/261005283.py:18: DeprecationWarning: Call to deprecated `docvecs` (The `docvecs` property has been renamed `dv`.).\n",
      "  if hasattr(models[0], 'docvecs'):\n",
      "C:\\Users\\DELL\\AppData\\Local\\Temp/ipykernel_10308/261005283.py:19: DeprecationWarning: Call to deprecated `docvecs` (The `docvecs` property has been renamed `dv`.).\n",
      "  self.docvecs = ConcatenatedDocvecs([model.docvecs for model in models])\n",
      "C:\\Users\\DELL\\AppData\\Local\\Temp/ipykernel_10308/261005283.py:18: DeprecationWarning: Call to deprecated `docvecs` (The `docvecs` property has been renamed `dv`.).\n",
      "  if hasattr(models[0], 'docvecs'):\n",
      "C:\\Users\\DELL\\AppData\\Local\\Temp/ipykernel_10308/261005283.py:19: DeprecationWarning: Call to deprecated `docvecs` (The `docvecs` property has been renamed `dv`.).\n",
      "  self.docvecs = ConcatenatedDocvecs([model.docvecs for model in models])\n",
      "C:\\Users\\DELL\\AppData\\Local\\Temp/ipykernel_10308/261005283.py:18: DeprecationWarning: Call to deprecated `docvecs` (The `docvecs` property has been renamed `dv`.).\n",
      "  if hasattr(models[0], 'docvecs'):\n",
      "C:\\Users\\DELL\\AppData\\Local\\Temp/ipykernel_10308/261005283.py:19: DeprecationWarning: Call to deprecated `docvecs` (The `docvecs` property has been renamed `dv`.).\n",
      "  self.docvecs = ConcatenatedDocvecs([model.docvecs for model in models])\n",
      "C:\\Users\\DELL\\AppData\\Local\\Temp/ipykernel_10308/261005283.py:18: DeprecationWarning: Call to deprecated `docvecs` (The `docvecs` property has been renamed `dv`.).\n",
      "  if hasattr(models[0], 'docvecs'):\n",
      "C:\\Users\\DELL\\AppData\\Local\\Temp/ipykernel_10308/261005283.py:19: DeprecationWarning: Call to deprecated `docvecs` (The `docvecs` property has been renamed `dv`.).\n",
      "  self.docvecs = ConcatenatedDocvecs([model.docvecs for model in models])\n",
      "C:\\Users\\DELL\\AppData\\Local\\Temp/ipykernel_10308/261005283.py:18: DeprecationWarning: Call to deprecated `docvecs` (The `docvecs` property has been renamed `dv`.).\n",
      "  if hasattr(models[0], 'docvecs'):\n",
      "C:\\Users\\DELL\\AppData\\Local\\Temp/ipykernel_10308/261005283.py:19: DeprecationWarning: Call to deprecated `docvecs` (The `docvecs` property has been renamed `dv`.).\n",
      "  self.docvecs = ConcatenatedDocvecs([model.docvecs for model in models])\n",
      "C:\\Users\\DELL\\AppData\\Local\\Temp/ipykernel_10308/261005283.py:18: DeprecationWarning: Call to deprecated `docvecs` (The `docvecs` property has been renamed `dv`.).\n",
      "  if hasattr(models[0], 'docvecs'):\n",
      "C:\\Users\\DELL\\AppData\\Local\\Temp/ipykernel_10308/261005283.py:19: DeprecationWarning: Call to deprecated `docvecs` (The `docvecs` property has been renamed `dv`.).\n",
      "  self.docvecs = ConcatenatedDocvecs([model.docvecs for model in models])\n",
      "C:\\Users\\DELL\\AppData\\Local\\Temp/ipykernel_10308/261005283.py:18: DeprecationWarning: Call to deprecated `docvecs` (The `docvecs` property has been renamed `dv`.).\n",
      "  if hasattr(models[0], 'docvecs'):\n",
      "C:\\Users\\DELL\\AppData\\Local\\Temp/ipykernel_10308/261005283.py:19: DeprecationWarning: Call to deprecated `docvecs` (The `docvecs` property has been renamed `dv`.).\n",
      "  self.docvecs = ConcatenatedDocvecs([model.docvecs for model in models])\n",
      "C:\\Users\\DELL\\AppData\\Local\\Temp/ipykernel_10308/261005283.py:18: DeprecationWarning: Call to deprecated `docvecs` (The `docvecs` property has been renamed `dv`.).\n",
      "  if hasattr(models[0], 'docvecs'):\n",
      "C:\\Users\\DELL\\AppData\\Local\\Temp/ipykernel_10308/261005283.py:19: DeprecationWarning: Call to deprecated `docvecs` (The `docvecs` property has been renamed `dv`.).\n",
      "  self.docvecs = ConcatenatedDocvecs([model.docvecs for model in models])\n",
      "C:\\Users\\DELL\\AppData\\Local\\Temp/ipykernel_10308/261005283.py:18: DeprecationWarning: Call to deprecated `docvecs` (The `docvecs` property has been renamed `dv`.).\n",
      "  if hasattr(models[0], 'docvecs'):\n",
      "C:\\Users\\DELL\\AppData\\Local\\Temp/ipykernel_10308/261005283.py:19: DeprecationWarning: Call to deprecated `docvecs` (The `docvecs` property has been renamed `dv`.).\n",
      "  self.docvecs = ConcatenatedDocvecs([model.docvecs for model in models])\n"
     ]
    }
   ],
   "source": [
    "vc_size_x = []\n",
    "accuracy_y = []\n",
    "f1_score_y = []\n",
    "\n",
    "for vc_sz in range(25,401,25):\n",
    "    vc_size_x.append(vc_sz)\n",
    "    list = model_accuracy(vector_sz=vc_sz)\n",
    "    accuracy_y.append(list[0])\n",
    "    f1_score_y.append(list[1])"
   ]
  },
  {
   "cell_type": "code",
   "execution_count": 15,
   "id": "187156f4",
   "metadata": {},
   "outputs": [
    {
     "name": "stdout",
     "output_type": "stream",
     "text": [
      "25 0.672 0.6639970171289618\n",
      "50 0.6906666666666667 0.6766193235601211\n",
      "75 0.692 0.6793252119056677\n",
      "100 0.7106666666666667 0.7014710715505653\n",
      "125 0.724 0.7071141374760451\n",
      "150 0.716 0.704207763681647\n",
      "175 0.7293333333333333 0.713670134139805\n",
      "200 0.7306666666666667 0.7181896017420971\n",
      "225 0.7346666666666667 0.7236990376900606\n",
      "250 0.736 0.7249111154199513\n",
      "275 0.7266666666666667 0.7124947034632119\n",
      "300 0.712 0.7025409602482129\n",
      "325 0.7386666666666667 0.724630256848024\n",
      "350 0.7306666666666667 0.7191500586567646\n",
      "375 0.7293333333333333 0.7147801869487742\n",
      "400 0.7293333333333333 0.7142707395769324\n"
     ]
    }
   ],
   "source": [
    "for i in range(len(vc_size_x)):\n",
    "    print(vc_size_x[i], accuracy_y[i], f1_score_y[i])\n",
    "    accuracy_y[i] = accuracy_y[i] * 100\n",
    "    f1_score_y[i] = f1_score_y[i] * 100"
   ]
  },
  {
   "cell_type": "code",
   "execution_count": 16,
   "id": "ca224dc3",
   "metadata": {},
   "outputs": [
    {
     "data": {
      "image/png": "[encoded data removed]",
      "text/plain": [
       "<Figure size 432x288 with 1 Axes>"
      ]
     },
     "metadata": {
      "needs_background": "light"
     },
     "output_type": "display_data"
    }
   ],
   "source": [
    "# vc_size_x = []\n",
    "# accuracy_y = []\n",
    "# f1_score_y = []\n",
    "\n",
    "# plotting the points\n",
    "plt.plot(vc_size_x, accuracy_y)\n",
    "\n",
    "# naming the x axis\n",
    "plt.xlabel('vector_size')\n",
    "# naming the y axis\n",
    "plt.ylabel('accuracy')\n",
    " \n",
    "# giving a title to my graph\n",
    "plt.title('Accuracy vs. Vector Size')\n",
    " \n",
    "# function to show the plot\n",
    "plt.show()"
   ]
  },
  {
   "cell_type": "code",
   "execution_count": 17,
   "id": "e57bb57a",
   "metadata": {},
   "outputs": [
    {
     "data": {
      "image/png": "[encoded data removed]",
      "text/plain": [
       "<Figure size 432x288 with 1 Axes>"
      ]
     },
     "metadata": {
      "needs_background": "light"
     },
     "output_type": "display_data"
    }
   ],
   "source": [
    "# plotting the points\n",
    "plt.plot(vc_size_x, f1_score_y)\n",
    " \n",
    "# naming the x axis\n",
    "plt.xlabel('vector_size')\n",
    "# naming the y axis\n",
    "plt.ylabel('F1 - score')\n",
    " \n",
    "# giving a title to my graph\n",
    "plt.title(' F1 - Score vs. Vector Size')\n",
    " \n",
    "# function to show the plot\n",
    "plt.show()"
   ]
  },
  {
   "cell_type": "code",
   "execution_count": 19,
   "id": "621688f8",
   "metadata": {},
   "outputs": [
    {
     "name": "stderr",
     "output_type": "stream",
     "text": [
      "C:\\Users\\DELL\\AppData\\Local\\Temp/ipykernel_10308/261005283.py:18: DeprecationWarning: Call to deprecated `docvecs` (The `docvecs` property has been renamed `dv`.).\n",
      "  if hasattr(models[0], 'docvecs'):\n",
      "C:\\Users\\DELL\\AppData\\Local\\Temp/ipykernel_10308/261005283.py:19: DeprecationWarning: Call to deprecated `docvecs` (The `docvecs` property has been renamed `dv`.).\n",
      "  self.docvecs = ConcatenatedDocvecs([model.docvecs for model in models])\n",
      "C:\\Users\\DELL\\AppData\\Local\\Temp/ipykernel_10308/261005283.py:18: DeprecationWarning: Call to deprecated `docvecs` (The `docvecs` property has been renamed `dv`.).\n",
      "  if hasattr(models[0], 'docvecs'):\n",
      "C:\\Users\\DELL\\AppData\\Local\\Temp/ipykernel_10308/261005283.py:19: DeprecationWarning: Call to deprecated `docvecs` (The `docvecs` property has been renamed `dv`.).\n",
      "  self.docvecs = ConcatenatedDocvecs([model.docvecs for model in models])\n",
      "C:\\Users\\DELL\\AppData\\Local\\Temp/ipykernel_10308/261005283.py:18: DeprecationWarning: Call to deprecated `docvecs` (The `docvecs` property has been renamed `dv`.).\n",
      "  if hasattr(models[0], 'docvecs'):\n",
      "C:\\Users\\DELL\\AppData\\Local\\Temp/ipykernel_10308/261005283.py:19: DeprecationWarning: Call to deprecated `docvecs` (The `docvecs` property has been renamed `dv`.).\n",
      "  self.docvecs = ConcatenatedDocvecs([model.docvecs for model in models])\n",
      "C:\\Users\\DELL\\AppData\\Local\\Temp/ipykernel_10308/261005283.py:18: DeprecationWarning: Call to deprecated `docvecs` (The `docvecs` property has been renamed `dv`.).\n",
      "  if hasattr(models[0], 'docvecs'):\n",
      "C:\\Users\\DELL\\AppData\\Local\\Temp/ipykernel_10308/261005283.py:19: DeprecationWarning: Call to deprecated `docvecs` (The `docvecs` property has been renamed `dv`.).\n",
      "  self.docvecs = ConcatenatedDocvecs([model.docvecs for model in models])\n",
      "C:\\Users\\DELL\\AppData\\Local\\Temp/ipykernel_10308/261005283.py:18: DeprecationWarning: Call to deprecated `docvecs` (The `docvecs` property has been renamed `dv`.).\n",
      "  if hasattr(models[0], 'docvecs'):\n",
      "C:\\Users\\DELL\\AppData\\Local\\Temp/ipykernel_10308/261005283.py:19: DeprecationWarning: Call to deprecated `docvecs` (The `docvecs` property has been renamed `dv`.).\n",
      "  self.docvecs = ConcatenatedDocvecs([model.docvecs for model in models])\n",
      "C:\\Users\\DELL\\AppData\\Local\\Temp/ipykernel_10308/261005283.py:18: DeprecationWarning: Call to deprecated `docvecs` (The `docvecs` property has been renamed `dv`.).\n",
      "  if hasattr(models[0], 'docvecs'):\n",
      "C:\\Users\\DELL\\AppData\\Local\\Temp/ipykernel_10308/261005283.py:19: DeprecationWarning: Call to deprecated `docvecs` (The `docvecs` property has been renamed `dv`.).\n",
      "  self.docvecs = ConcatenatedDocvecs([model.docvecs for model in models])\n",
      "C:\\Users\\DELL\\AppData\\Local\\Temp/ipykernel_10308/261005283.py:18: DeprecationWarning: Call to deprecated `docvecs` (The `docvecs` property has been renamed `dv`.).\n",
      "  if hasattr(models[0], 'docvecs'):\n",
      "C:\\Users\\DELL\\AppData\\Local\\Temp/ipykernel_10308/261005283.py:19: DeprecationWarning: Call to deprecated `docvecs` (The `docvecs` property has been renamed `dv`.).\n",
      "  self.docvecs = ConcatenatedDocvecs([model.docvecs for model in models])\n",
      "C:\\Users\\DELL\\AppData\\Local\\Temp/ipykernel_10308/261005283.py:18: DeprecationWarning: Call to deprecated `docvecs` (The `docvecs` property has been renamed `dv`.).\n",
      "  if hasattr(models[0], 'docvecs'):\n",
      "C:\\Users\\DELL\\AppData\\Local\\Temp/ipykernel_10308/261005283.py:19: DeprecationWarning: Call to deprecated `docvecs` (The `docvecs` property has been renamed `dv`.).\n",
      "  self.docvecs = ConcatenatedDocvecs([model.docvecs for model in models])\n"
     ]
    }
   ],
   "source": [
    "window_size_x = []\n",
    "accuracy_y = []\n",
    "f1_score_y = []\n",
    "\n",
    "for window in range(5,41,5):\n",
    "    window_size_x.append(window)\n",
    "    list = model_accuracy(window_sz=window)\n",
    "    accuracy_y.append(list[0])\n",
    "    f1_score_y.append(list[1])"
   ]
  },
  {
   "cell_type": "code",
   "execution_count": 20,
   "id": "fb6a2e7f",
   "metadata": {},
   "outputs": [
    {
     "name": "stdout",
     "output_type": "stream",
     "text": [
      "5 0.732 0.7238863670322371\n",
      "10 0.736 0.7263224602354287\n",
      "15 0.7373333333333333 0.7254429406783036\n",
      "20 0.7266666666666667 0.711895667386883\n",
      "25 0.7146666666666667 0.6980505694792148\n",
      "30 0.7253333333333334 0.7037671423424432\n",
      "35 0.712 0.6986800944452249\n",
      "40 0.716 0.6978713622837014\n"
     ]
    }
   ],
   "source": [
    "for i in range(len(window_size_x)):\n",
    "    print(window_size_x[i], accuracy_y[i], f1_score_y[i])\n",
    "    accuracy_y[i] = accuracy_y[i] * 100\n",
    "    f1_score_y[i] = f1_score_y[i] * 100"
   ]
  },
  {
   "cell_type": "code",
   "execution_count": 21,
   "id": "6f7671ec",
   "metadata": {},
   "outputs": [
    {
     "data": {
      "image/png": "[encoded data removed]",
      "text/plain": [
       "<Figure size 432x288 with 1 Axes>"
      ]
     },
     "metadata": {
      "needs_background": "light"
     },
     "output_type": "display_data"
    }
   ],
   "source": [
    "# window_size_x = []\n",
    "# accuracy_y = []\n",
    "# f1_score_y = []\n",
    "\n",
    "# plotting the points\n",
    "plt.plot(window_size_x, accuracy_y)\n",
    "\n",
    "# naming the x axis\n",
    "plt.xlabel('window size')\n",
    "# naming the y axis\n",
    "plt.ylabel('accuracy')\n",
    " \n",
    "# giving a title to my graph\n",
    "plt.title('Accuracy vs. window size')\n",
    " \n",
    "# function to show the plot\n",
    "plt.show()"
   ]
  },
  {
   "cell_type": "code",
   "execution_count": 22,
   "id": "a64466b0",
   "metadata": {},
   "outputs": [
    {
     "data": {
      "image/png": "[encoded data removed]",
      "text/plain": [
       "<Figure size 432x288 with 1 Axes>"
      ]
     },
     "metadata": {
      "needs_background": "light"
     },
     "output_type": "display_data"
    }
   ],
   "source": [
    "# plotting the points\n",
    "plt.plot(window_size_x, f1_score_y)\n",
    " \n",
    "# naming the x axis\n",
    "plt.xlabel('window_size')\n",
    "# naming the y axis\n",
    "plt.ylabel('F1 - score')\n",
    " \n",
    "# giving a title to my graph\n",
    "plt.title(' F1 - Score vs. Window Size')\n",
    " \n",
    "# function to show the plot\n",
    "plt.show()"
   ]
  },
  {
   "cell_type": "code",
   "execution_count": 24,
   "id": "bcfc4aea",
   "metadata": {},
   "outputs": [
    {
     "name": "stderr",
     "output_type": "stream",
     "text": [
      "C:\\Users\\DELL\\AppData\\Local\\Temp/ipykernel_10308/261005283.py:18: DeprecationWarning: Call to deprecated `docvecs` (The `docvecs` property has been renamed `dv`.).\n",
      "  if hasattr(models[0], 'docvecs'):\n",
      "C:\\Users\\DELL\\AppData\\Local\\Temp/ipykernel_10308/261005283.py:19: DeprecationWarning: Call to deprecated `docvecs` (The `docvecs` property has been renamed `dv`.).\n",
      "  self.docvecs = ConcatenatedDocvecs([model.docvecs for model in models])\n",
      "C:\\Users\\DELL\\AppData\\Local\\Temp/ipykernel_10308/261005283.py:18: DeprecationWarning: Call to deprecated `docvecs` (The `docvecs` property has been renamed `dv`.).\n",
      "  if hasattr(models[0], 'docvecs'):\n",
      "C:\\Users\\DELL\\AppData\\Local\\Temp/ipykernel_10308/261005283.py:19: DeprecationWarning: Call to deprecated `docvecs` (The `docvecs` property has been renamed `dv`.).\n",
      "  self.docvecs = ConcatenatedDocvecs([model.docvecs for model in models])\n",
      "C:\\Users\\DELL\\AppData\\Local\\Temp/ipykernel_10308/261005283.py:18: DeprecationWarning: Call to deprecated `docvecs` (The `docvecs` property has been renamed `dv`.).\n",
      "  if hasattr(models[0], 'docvecs'):\n",
      "C:\\Users\\DELL\\AppData\\Local\\Temp/ipykernel_10308/261005283.py:19: DeprecationWarning: Call to deprecated `docvecs` (The `docvecs` property has been renamed `dv`.).\n",
      "  self.docvecs = ConcatenatedDocvecs([model.docvecs for model in models])\n",
      "C:\\Users\\DELL\\AppData\\Local\\Temp/ipykernel_10308/261005283.py:18: DeprecationWarning: Call to deprecated `docvecs` (The `docvecs` property has been renamed `dv`.).\n",
      "  if hasattr(models[0], 'docvecs'):\n",
      "C:\\Users\\DELL\\AppData\\Local\\Temp/ipykernel_10308/261005283.py:19: DeprecationWarning: Call to deprecated `docvecs` (The `docvecs` property has been renamed `dv`.).\n",
      "  self.docvecs = ConcatenatedDocvecs([model.docvecs for model in models])\n",
      "C:\\Users\\DELL\\AppData\\Local\\Temp/ipykernel_10308/261005283.py:18: DeprecationWarning: Call to deprecated `docvecs` (The `docvecs` property has been renamed `dv`.).\n",
      "  if hasattr(models[0], 'docvecs'):\n",
      "C:\\Users\\DELL\\AppData\\Local\\Temp/ipykernel_10308/261005283.py:19: DeprecationWarning: Call to deprecated `docvecs` (The `docvecs` property has been renamed `dv`.).\n",
      "  self.docvecs = ConcatenatedDocvecs([model.docvecs for model in models])\n",
      "C:\\Users\\DELL\\AppData\\Local\\Temp/ipykernel_10308/261005283.py:18: DeprecationWarning: Call to deprecated `docvecs` (The `docvecs` property has been renamed `dv`.).\n",
      "  if hasattr(models[0], 'docvecs'):\n",
      "C:\\Users\\DELL\\AppData\\Local\\Temp/ipykernel_10308/261005283.py:19: DeprecationWarning: Call to deprecated `docvecs` (The `docvecs` property has been renamed `dv`.).\n",
      "  self.docvecs = ConcatenatedDocvecs([model.docvecs for model in models])\n",
      "C:\\Users\\DELL\\AppData\\Local\\Temp/ipykernel_10308/261005283.py:18: DeprecationWarning: Call to deprecated `docvecs` (The `docvecs` property has been renamed `dv`.).\n",
      "  if hasattr(models[0], 'docvecs'):\n",
      "C:\\Users\\DELL\\AppData\\Local\\Temp/ipykernel_10308/261005283.py:19: DeprecationWarning: Call to deprecated `docvecs` (The `docvecs` property has been renamed `dv`.).\n",
      "  self.docvecs = ConcatenatedDocvecs([model.docvecs for model in models])\n",
      "C:\\Users\\DELL\\AppData\\Local\\Temp/ipykernel_10308/261005283.py:18: DeprecationWarning: Call to deprecated `docvecs` (The `docvecs` property has been renamed `dv`.).\n",
      "  if hasattr(models[0], 'docvecs'):\n",
      "C:\\Users\\DELL\\AppData\\Local\\Temp/ipykernel_10308/261005283.py:19: DeprecationWarning: Call to deprecated `docvecs` (The `docvecs` property has been renamed `dv`.).\n",
      "  self.docvecs = ConcatenatedDocvecs([model.docvecs for model in models])\n",
      "C:\\Users\\DELL\\AppData\\Local\\Temp/ipykernel_10308/261005283.py:18: DeprecationWarning: Call to deprecated `docvecs` (The `docvecs` property has been renamed `dv`.).\n",
      "  if hasattr(models[0], 'docvecs'):\n",
      "C:\\Users\\DELL\\AppData\\Local\\Temp/ipykernel_10308/261005283.py:19: DeprecationWarning: Call to deprecated `docvecs` (The `docvecs` property has been renamed `dv`.).\n",
      "  self.docvecs = ConcatenatedDocvecs([model.docvecs for model in models])\n",
      "C:\\Users\\DELL\\AppData\\Local\\Temp/ipykernel_10308/261005283.py:18: DeprecationWarning: Call to deprecated `docvecs` (The `docvecs` property has been renamed `dv`.).\n",
      "  if hasattr(models[0], 'docvecs'):\n",
      "C:\\Users\\DELL\\AppData\\Local\\Temp/ipykernel_10308/261005283.py:19: DeprecationWarning: Call to deprecated `docvecs` (The `docvecs` property has been renamed `dv`.).\n",
      "  self.docvecs = ConcatenatedDocvecs([model.docvecs for model in models])\n"
     ]
    }
   ],
   "source": [
    "Epochs_x = []\n",
    "accuracy_y = []\n",
    "f1_score_y = []\n",
    "\n",
    "for Epochs_number in range(5,51,5):\n",
    "    Epochs_x.append(Epochs_number)\n",
    "    list = model_accuracy(Epochs_Num=Epochs_number)\n",
    "    accuracy_y.append(list[0])\n",
    "    f1_score_y.append(list[1])"
   ]
  },
  {
   "cell_type": "code",
   "execution_count": 25,
   "id": "39d66222",
   "metadata": {},
   "outputs": [
    {
     "name": "stdout",
     "output_type": "stream",
     "text": [
      "5 71.73333333333333 71.5237503507886\n",
      "10 70.53333333333333 69.582830387518\n",
      "15 71.2 70.4481204853502\n",
      "20 71.86666666666667 70.37572196505153\n",
      "25 73.86666666666667 72.71148036307059\n",
      "30 73.33333333333333 71.94284100533795\n",
      "35 69.86666666666666 69.51402410165403\n",
      "40 67.33333333333333 67.0494991867571\n",
      "45 66.93333333333334 66.18479504812369\n",
      "50 66.8 66.16868200965239\n"
     ]
    }
   ],
   "source": [
    "for i in range(len(Epochs_x)):\n",
    "    accuracy_y[i] = accuracy_y[i] * 100\n",
    "    f1_score_y[i] = f1_score_y[i] * 100\n",
    "    print(Epochs_x[i], accuracy_y[i], f1_score_y[i])"
   ]
  },
  {
   "cell_type": "code",
   "execution_count": 26,
   "id": "d06ddfe7",
   "metadata": {},
   "outputs": [
    {
     "data": {
      "image/png": "[encoded data removed]",
      "text/plain": [
       "<Figure size 432x288 with 1 Axes>"
      ]
     },
     "metadata": {
      "needs_background": "light"
     },
     "output_type": "display_data"
    }
   ],
   "source": [
    "# Epochs_x = []\n",
    "# accuracy_y = []\n",
    "# f1_score_y = []\n",
    "\n",
    "# plotting the points\n",
    "plt.plot(Epochs_x, accuracy_y)\n",
    "\n",
    "# naming the x axis\n",
    "plt.xlabel('Epochs')\n",
    "# naming the y axis\n",
    "plt.ylabel('accuracy')\n",
    " \n",
    "# giving a title to my graph\n",
    "plt.title('Accuracy vs. Epochs')\n",
    "\n",
    "# function to show the plot\n",
    "plt.show()"
   ]
  },
  {
   "cell_type": "code",
   "execution_count": 27,
   "id": "efb9de1d",
   "metadata": {},
   "outputs": [
    {
     "data": {
      "image/png": "[encoded data removed]",
      "text/plain": [
       "<Figure size 432x288 with 1 Axes>"
      ]
     },
     "metadata": {
      "needs_background": "light"
     },
     "output_type": "display_data"
    }
   ],
   "source": [
    "# plotting the points\n",
    "plt.plot(Epochs_x, f1_score_y)\n",
    " \n",
    "# naming the x axis\n",
    "plt.xlabel('Epochs')\n",
    "# naming the y axis\n",
    "plt.ylabel('F1 - score')\n",
    " \n",
    "# giving a title to my graph\n",
    "plt.title(' F1 - Score vs. Epochs')\n",
    " \n",
    "# function to show the plot\n",
    "plt.show()"
   ]
  }
 ],
 "metadata": {
  "colab": {
   "name": "Classifier.ipynb",
   "provenance": []
  },
  "kernelspec": {
   "display_name": "Python 3 (ipykernel)",
   "language": "python",
   "name": "python3"
  },
  "language_info": {
   "codemirror_mode": {
    "name": "ipython",
    "version": 3
   },
   "file_extension": ".py",
   "mimetype": "text/x-python",
   "name": "python",
   "nbconvert_exporter": "python",
   "pygments_lexer": "ipython3",
   "version": "3.9.7"
  }
 },
 "nbformat": 4,
 "nbformat_minor": 5
}
