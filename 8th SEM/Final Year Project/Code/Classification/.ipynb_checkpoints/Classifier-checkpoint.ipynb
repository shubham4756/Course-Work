{
 "cells": [
  {
   "cell_type": "code",
   "execution_count": 14,
   "id": "a2213768",
   "metadata": {},
   "outputs": [
    {
     "data": {
      "text/html": [
       "<div>\n",
       "<style scoped>\n",
       "    .dataframe tbody tr th:only-of-type {\n",
       "        vertical-align: middle;\n",
       "    }\n",
       "\n",
       "    .dataframe tbody tr th {\n",
       "        vertical-align: top;\n",
       "    }\n",
       "\n",
       "    .dataframe thead th {\n",
       "        text-align: right;\n",
       "    }\n",
       "</style>\n",
       "<table border=\"1\" class=\"dataframe\">\n",
       "  <thead>\n",
       "    <tr style=\"text-align: right;\">\n",
       "      <th></th>\n",
       "      <th>title</th>\n",
       "      <th>description</th>\n",
       "      <th>skills</th>\n",
       "    </tr>\n",
       "  </thead>\n",
       "  <tbody>\n",
       "    <tr>\n",
       "      <th>0</th>\n",
       "      <td>automation engineer</td>\n",
       "      <td>Looking for Selenium engineers...must have sol...</td>\n",
       "      <td>SEE BELOW</td>\n",
       "    </tr>\n",
       "    <tr>\n",
       "      <th>1</th>\n",
       "      <td>devops engineer</td>\n",
       "      <td>Midtown based high tech firm has an immediate ...</td>\n",
       "      <td>Configuration Management, Developer, Linux, Ma...</td>\n",
       "    </tr>\n",
       "    <tr>\n",
       "      <th>2</th>\n",
       "      <td>network engineer</td>\n",
       "      <td>Network Engineer Job Description A Network Eng...</td>\n",
       "      <td>Cisco, DNS, HTTP, Networking, Network Engineer...</td>\n",
       "    </tr>\n",
       "    <tr>\n",
       "      <th>3</th>\n",
       "      <td>front end developer</td>\n",
       "      <td>This is a fulltime position for a Javascript d...</td>\n",
       "      <td>C++, Developer, Development, JavaScript, User ...</td>\n",
       "    </tr>\n",
       "    <tr>\n",
       "      <th>4</th>\n",
       "      <td>software engineer</td>\n",
       "      <td>VanderHouwen has more jobs you may like!  Find...</td>\n",
       "      <td>Java, OSS</td>\n",
       "    </tr>\n",
       "  </tbody>\n",
       "</table>\n",
       "</div>"
      ],
      "text/plain": [
       "                 title                                        description  \\\n",
       "0  automation engineer  Looking for Selenium engineers...must have sol...   \n",
       "1      devops engineer  Midtown based high tech firm has an immediate ...   \n",
       "2     network engineer  Network Engineer Job Description A Network Eng...   \n",
       "3  front end developer  This is a fulltime position for a Javascript d...   \n",
       "4    software engineer  VanderHouwen has more jobs you may like!  Find...   \n",
       "\n",
       "                                              skills  \n",
       "0                                          SEE BELOW  \n",
       "1  Configuration Management, Developer, Linux, Ma...  \n",
       "2  Cisco, DNS, HTTP, Networking, Network Engineer...  \n",
       "3  C++, Developer, Development, JavaScript, User ...  \n",
       "4                                          Java, OSS  "
      ]
     },
     "execution_count": 14,
     "metadata": {},
     "output_type": "execute_result"
    }
   ],
   "source": [
    "import pandas as pd\n",
    "\n",
    "jdDataSet = pd.read_excel('jd_dataset.xlsx') # encoding='ISO-8859-1',  lineterminator='\\n',error_bad_lines=False\n",
    "jdDataSet['cleaned_jd'] = ''\n",
    "jdDataSet.head()"
   ]
  },
  {
   "cell_type": "code",
   "execution_count": null,
   "id": "5b4d7021",
   "metadata": {},
   "outputs": [],
   "source": []
  },
  {
   "cell_type": "code",
   "execution_count": null,
   "id": "c66acd56",
   "metadata": {},
   "outputs": [],
   "source": []
  }
 ],
 "metadata": {
  "kernelspec": {
   "display_name": "Python 3 (ipykernel)",
   "language": "python",
   "name": "python3"
  },
  "language_info": {
   "codemirror_mode": {
    "name": "ipython",
    "version": 3
   },
   "file_extension": ".py",
   "mimetype": "text/x-python",
   "name": "python",
   "nbconvert_exporter": "python",
   "pygments_lexer": "ipython3",
   "version": "3.9.7"
  }
 },
 "nbformat": 4,
 "nbformat_minor": 5
}
