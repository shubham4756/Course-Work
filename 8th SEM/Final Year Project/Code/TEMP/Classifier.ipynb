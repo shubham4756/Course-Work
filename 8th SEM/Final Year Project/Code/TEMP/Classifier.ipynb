{
 "cells": [
  {
   "cell_type": "code",
   "execution_count": 1,
   "id": "a2213768",
   "metadata": {
    "colab": {
     "base_uri": "https://localhost:8080/",
     "height": 310
    },
    "id": "a2213768",
    "outputId": "60429944-7d9a-47fd-c4fe-7c5b386ae86b"
   },
   "outputs": [
    {
     "name": "stderr",
     "output_type": "stream",
     "text": [
      "[nltk_data] Downloading package wordnet to\n",
      "[nltk_data]     C:\\Users\\DELL\\AppData\\Roaming\\nltk_data...\n",
      "[nltk_data]   Package wordnet is already up-to-date!\n",
      "[nltk_data] Downloading package averaged_perceptron_tagger to\n",
      "[nltk_data]     C:\\Users\\DELL\\AppData\\Roaming\\nltk_data...\n",
      "[nltk_data]   Package averaged_perceptron_tagger is already up-to-\n",
      "[nltk_data]       date!\n"
     ]
    },
    {
     "data": {
      "text/plain": [
       "True"
      ]
     },
     "execution_count": 1,
     "metadata": {},
     "output_type": "execute_result"
    }
   ],
   "source": [
    "import pandas as pd\n",
    "import numpy as np\n",
    "import gensim\n",
    "from sklearn.linear_model import LogisticRegression\n",
    "from gensim.models.doc2vec import TaggedDocument\n",
    "import matplotlib.pyplot as plt\n",
    "import seaborn as sns\n",
    "from sklearn.metrics import roc_curve, roc_auc_score\n",
    "from sklearn.naive_bayes import MultinomialNB\n",
    "from sklearn.preprocessing import MinMaxScaler\n",
    "from sklearn.pipeline import Pipeline\n",
    "from sklearn.multiclass import OneVsRestClassifier\n",
    "from sklearn.neighbors import KNeighborsClassifier\n",
    "from sklearn import metrics\n",
    "from sklearn.svm import SVC\n",
    "from tqdm import tqdm\n",
    "tqdm.pandas(desc=\"progress-bar\")\n",
    "from gensim.models import Doc2Vec\n",
    "import multiprocessing\n",
    "from sklearn import utils\n",
    "from sklearn.model_selection import train_test_split\n",
    "from gensim.parsing.preprocessing import remove_stopwords\n",
    "from gensim.utils import simple_preprocess\n",
    "from gensim.parsing.porter import PorterStemmer\n",
    "from nltk.stem import WordNetLemmatizer\n",
    "import re\n",
    "from re import search\n",
    "import nltk\n",
    "nltk.download('wordnet')\n",
    "nltk.download('averaged_perceptron_tagger')"
   ]
  },
  {
   "cell_type": "code",
   "execution_count": 2,
   "id": "7b406337",
   "metadata": {},
   "outputs": [
    {
     "data": {
      "text/html": [
       "<div>\n",
       "<style scoped>\n",
       "    .dataframe tbody tr th:only-of-type {\n",
       "        vertical-align: middle;\n",
       "    }\n",
       "\n",
       "    .dataframe tbody tr th {\n",
       "        vertical-align: top;\n",
       "    }\n",
       "\n",
       "    .dataframe thead th {\n",
       "        text-align: right;\n",
       "    }\n",
       "</style>\n",
       "<table border=\"1\" class=\"dataframe\">\n",
       "  <thead>\n",
       "    <tr style=\"text-align: right;\">\n",
       "      <th></th>\n",
       "      <th>title</th>\n",
       "      <th>description</th>\n",
       "      <th>skills</th>\n",
       "      <th>cleaned_jd</th>\n",
       "    </tr>\n",
       "  </thead>\n",
       "  <tbody>\n",
       "    <tr>\n",
       "      <th>0</th>\n",
       "      <td>ux designer</td>\n",
       "      <td>Our client is seeking a UI/UX Designer.   Loca...</td>\n",
       "      <td>CSS, Development, HTML, HTTP, JavaScript, Mana...</td>\n",
       "      <td></td>\n",
       "    </tr>\n",
       "    <tr>\n",
       "      <th>1</th>\n",
       "      <td>ux designer</td>\n",
       "      <td>Position Description:Wipro Digital is seeking ...</td>\n",
       "      <td>UX Designing</td>\n",
       "      <td></td>\n",
       "    </tr>\n",
       "    <tr>\n",
       "      <th>2</th>\n",
       "      <td>ux designer</td>\n",
       "      <td>HIGreetings from Data inc!!! Hope you are doin...</td>\n",
       "      <td>\"ui designer\" , \"user interface designer\" , \"v...</td>\n",
       "      <td></td>\n",
       "    </tr>\n",
       "    <tr>\n",
       "      <th>3</th>\n",
       "      <td>ux designer</td>\n",
       "      <td>Our team is looking for an experienced UI/UX D...</td>\n",
       "      <td>HTML 5, CSS3, jQuery, php, bootstrap, Angular</td>\n",
       "      <td></td>\n",
       "    </tr>\n",
       "    <tr>\n",
       "      <th>4</th>\n",
       "      <td>ux designer</td>\n",
       "      <td>Hi, Please send me your updated resume on raje...</td>\n",
       "      <td>UX Designer</td>\n",
       "      <td></td>\n",
       "    </tr>\n",
       "  </tbody>\n",
       "</table>\n",
       "</div>"
      ],
      "text/plain": [
       "         title                                        description  \\\n",
       "0  ux designer  Our client is seeking a UI/UX Designer.   Loca...   \n",
       "1  ux designer  Position Description:Wipro Digital is seeking ...   \n",
       "2  ux designer  HIGreetings from Data inc!!! Hope you are doin...   \n",
       "3  ux designer  Our team is looking for an experienced UI/UX D...   \n",
       "4  ux designer  Hi, Please send me your updated resume on raje...   \n",
       "\n",
       "                                              skills cleaned_jd  \n",
       "0  CSS, Development, HTML, HTTP, JavaScript, Mana...             \n",
       "1                                       UX Designing             \n",
       "2  \"ui designer\" , \"user interface designer\" , \"v...             \n",
       "3      HTML 5, CSS3, jQuery, php, bootstrap, Angular             \n",
       "4                                        UX Designer             "
      ]
     },
     "execution_count": 2,
     "metadata": {},
     "output_type": "execute_result"
    }
   ],
   "source": [
    "jdDataSet = pd.read_excel('jd_dataset_new.xlsx')\n",
    "jdDataSet['cleaned_jd'] = ''\n",
    "jdDataSet.head()"
   ]
  },
  {
   "cell_type": "code",
   "execution_count": 3,
   "id": "3d785002",
   "metadata": {
    "colab": {
     "base_uri": "https://localhost:8080/"
    },
    "id": "3d785002",
    "outputId": "f8085559-fd36-4337-a04c-c39b233a515b",
    "scrolled": true
   },
   "outputs": [
    {
     "name": "stdout",
     "output_type": "stream",
     "text": [
      "Displaying the distinct categories of jd -\n",
      "['ux designer' 'infrastructure engineer' 'systems administrator'\n",
      " 'ui developer' 'node .js developer' 'network engineer'\n",
      " 'big data architect' 'android developer' 'salesforce developer'\n",
      " 'ruby on rails developer' 'testing' 'network security administrator'\n",
      " 'swift developer' 'application developer' 'data security analyst'\n",
      " 'network support' 'technical support' 'data warehousing developer'\n",
      " 'cloud architect' 'cloud infrastructure engineer' 'ios developer'\n",
      " 'automation engineer' 'sql developer' 'qa engineer' 'telecom engineer'\n",
      " 'php developer' 'site reliability engineer' 'hadoop developer'\n",
      " 'aws architect' 'business analyst' 'data analyst' 'project manager'\n",
      " 'technology analyst' 'java developer' 'devops engineer'\n",
      " 'front end developer' 'back end developer' 'full stack developer'\n",
      " 'software engineer' 'product manager' 'java engineer' '.net developer'\n",
      " 'web developer' 'c# developer' 'c developer' 'c++ developer'\n",
      " 'system engineer' 'database engineer' 'data scientist' 'data engineer']\n"
     ]
    }
   ],
   "source": [
    "print (\"Displaying the distinct categories of jd -\")\n",
    "print (jdDataSet['title'].unique())"
   ]
  },
  {
   "cell_type": "code",
   "execution_count": 4,
   "id": "ce8f509a",
   "metadata": {
    "colab": {
     "base_uri": "https://localhost:8080/"
    },
    "id": "ce8f509a",
    "outputId": "85cf0636-abdd-4425-c200-ba3e92482d70"
   },
   "outputs": [
    {
     "name": "stdout",
     "output_type": "stream",
     "text": [
      "Displaying the distinct categories of jd and the number of records belonging to each title -\n",
      "ux designer                       50\n",
      "full stack developer              50\n",
      "hadoop developer                  50\n",
      "aws architect                     50\n",
      "business analyst                  50\n",
      "data analyst                      50\n",
      "project manager                   50\n",
      "technology analyst                50\n",
      "java developer                    50\n",
      "devops engineer                   50\n",
      "front end developer               50\n",
      "back end developer                50\n",
      "software engineer                 50\n",
      "infrastructure engineer           50\n",
      "product manager                   50\n",
      "java engineer                     50\n",
      ".net developer                    50\n",
      "web developer                     50\n",
      "c# developer                      50\n",
      "c developer                       50\n",
      "c++ developer                     50\n",
      "system engineer                   50\n",
      "database engineer                 50\n",
      "data scientist                    50\n",
      "site reliability engineer         50\n",
      "php developer                     50\n",
      "telecom engineer                  50\n",
      "qa engineer                       50\n",
      "systems administrator             50\n",
      "ui developer                      50\n",
      "node .js developer                50\n",
      "network engineer                  50\n",
      "big data architect                50\n",
      "android developer                 50\n",
      "salesforce developer              50\n",
      "ruby on rails developer           50\n",
      "testing                           50\n",
      "network security administrator    50\n",
      "swift developer                   50\n",
      "application developer             50\n",
      "data security analyst             50\n",
      "network support                   50\n",
      "technical support                 50\n",
      "data warehousing developer        50\n",
      "cloud architect                   50\n",
      "cloud infrastructure engineer     50\n",
      "ios developer                     50\n",
      "automation engineer               50\n",
      "sql developer                     50\n",
      "data engineer                     50\n",
      "Name: title, dtype: int64\n"
     ]
    }
   ],
   "source": [
    "print (\"Displaying the distinct categories of jd and the number of records belonging to each title -\")\n",
    "print (jdDataSet['title'].value_counts())"
   ]
  },
  {
   "cell_type": "code",
   "execution_count": 5,
   "id": "203bd7e9",
   "metadata": {
    "colab": {
     "base_uri": "https://localhost:8080/",
     "height": 903
    },
    "id": "203bd7e9",
    "outputId": "0a1ca29d-9197-43d8-f7bd-006ebff0fcff"
   },
   "outputs": [
    {
     "data": {
      "text/plain": [
       "<AxesSubplot:xlabel='count', ylabel='title'>"
      ]
     },
     "execution_count": 5,
     "metadata": {},
     "output_type": "execute_result"
    },
    {
     "data": {
      "image/png": "[encoded data removed]",
      "text/plain": [
       "<Figure size 1080x1080 with 1 Axes>"
      ]
     },
     "metadata": {
      "needs_background": "light"
     },
     "output_type": "display_data"
    }
   ],
   "source": [
    "plt.figure(figsize=(15,15))\n",
    "plt.xticks(rotation=90)\n",
    "sns.countplot(y=\"title\", data=jdDataSet)"
   ]
  },
  {
   "cell_type": "code",
   "execution_count": 6,
   "id": "ed285a0f",
   "metadata": {
    "id": "ed285a0f"
   },
   "outputs": [],
   "source": [
    "def clean(text):\n",
    "    text = re.sub('http\\S+\\s*', ' ', text)  # remove URLs\n",
    "    text = re.sub('RT|cc', ' ', text)  # remove RT and cc\n",
    "    text = re.sub('#\\S+', '', text)  # remove hashtags\n",
    "    text = re.sub('@\\S+', '  ', text)  # remove mentions\n",
    "    text = re.sub('[%s]' % re.escape(\"\"\"!\"$%&'()*,-/:;<=>?@[\\]^_`{|}~\"\"\"), ' ', text)  # remove punctuations\n",
    "    text = re.sub(r'[^\\x00-\\x7f]',r' ', text) \n",
    "    text = re.sub('\\s+', ' ', text)  # remove extra whitespace\n",
    "    return text"
   ]
  },
  {
   "cell_type": "code",
   "execution_count": 7,
   "id": "q2UjRMZdKXr3",
   "metadata": {
    "id": "q2UjRMZdKXr3"
   },
   "outputs": [],
   "source": [
    "def extractNoun(wordsList):\n",
    "    tagged = nltk.pos_tag(wordsList)\n",
    "    filtered_pos = []\n",
    "    for one in tagged:\n",
    "        if one[1] == 'NN' or one[1] == 'NNS' or one[1] == 'NNP' or one[1] == 'NNPS':\n",
    "            filtered_pos.append(one[0])\n",
    "    return filtered_pos"
   ]
  },
  {
   "cell_type": "code",
   "execution_count": 8,
   "id": "7d7a09c7",
   "metadata": {},
   "outputs": [],
   "source": [
    "skills = set()\n",
    "skillDataSet = pd.read_excel('skills.xlsx')\n",
    "for i in skillDataSet.index:\n",
    "    if skillDataSet['frequency'][i] > 9:\n",
    "        skills.add(skillDataSet['skills'][i])\n",
    "\n",
    "def extractSkills(description):\n",
    "    res = []\n",
    "    for skill in skills:\n",
    "        if str(skill) in description:\n",
    "            res.append(skill)\n",
    "    return res"
   ]
  },
  {
   "cell_type": "code",
   "execution_count": 9,
   "id": "08da0228",
   "metadata": {
    "colab": {
     "background_save": true
    },
    "id": "08da0228"
   },
   "outputs": [
    {
     "data": {
      "text/plain": [
       "0       [project, development, product management, web...\n",
       "1       [manager, ssis, research, ios, web, it, archit...\n",
       "2       [nan, project, ssis, engineer, ios, web, it, c...\n",
       "3       [cloud, cisco, web, user interface, it, c, des...\n",
       "4       [project, development, research, product manag...\n",
       "                              ...                        \n",
       "2495    [nan, big data, project, cloud, oop, data ware...\n",
       "2496                                                  [r]\n",
       "2497    [big data, cloud, oop, infrastructure, enginee...\n",
       "2498    [cloud, scripting, oop, engineer, web, softwar...\n",
       "2499    [nan, ssis, development, research, libraries, ...\n",
       "Name: cleaned_jd, Length: 2500, dtype: object"
      ]
     },
     "execution_count": 9,
     "metadata": {},
     "output_type": "execute_result"
    }
   ],
   "source": [
    "#cleaning data\n",
    "jdDataSet['cleaned_jd'] = jdDataSet.description.apply(lambda x: clean(x))\n",
    "\n",
    "# Removing the stop words\n",
    "jdDataSet['cleaned_jd'] = jdDataSet.cleaned_jd.apply(lambda x: remove_stopwords(x))\n",
    "\n",
    "# Removing skills from job desctiption\n",
    "jdDataSet['cleaned_jd'] = jdDataSet.cleaned_jd.apply(lambda x: extractSkills(x))\n",
    "\n",
    "# Tokenize the text column\n",
    "# jdDataSet['cleaned_jd'] = [simple_preprocess(line, deacc=True) for line in jdDataSet['cleaned_jd']] \n",
    "\n",
    "# Get the stemmed_tokens\n",
    "# porter_stemmer = PorterStemmer()\n",
    "# jdDataSet['cleaned_jd'] = [[porter_stemmer.stem(word) for word in tokens] for tokens in jdDataSet['cleaned_jd'] ]\n",
    "\n",
    "# get the lammatized tokens\n",
    "# lemmatizer = WordNetLemmatizer() \n",
    "# jdDataSet['cleaned_jd'] = [[lemmatizer.lemmatize(word) for word in tokens] for tokens in jdDataSet['cleaned_jd'] ]\n",
    "\n",
    "# extract only noun \n",
    "# jdDataSet['cleaned_jd'] = jdDataSet.cleaned_jd.apply(lambda x: extractNoun(x))\n",
    "\n",
    "jdDataSet['cleaned_jd']"
   ]
  },
  {
   "cell_type": "code",
   "execution_count": 10,
   "id": "bb469bb6",
   "metadata": {
    "colab": {
     "background_save": true
    },
    "id": "bb469bb6",
    "scrolled": true
   },
   "outputs": [],
   "source": [
    "# to generate N grams\n",
    "def generate_N_grams(text,ngram=1):\n",
    "    temp=zip(*[text[i:] for i in range(0,ngram)])\n",
    "    ans=[' '.join(ngram) for ngram in temp]\n",
    "    return ans\n",
    "\n",
    "# jdDataSet['cleaned_jd'] = jdDataSet.cleaned_jd.apply(lambda x: x + generate_N_grams(list(x),3))\n",
    "\n",
    "# jdDataSet['cleaned_jd'][0]"
   ]
  },
  {
   "cell_type": "code",
   "execution_count": 11,
   "id": "86e3a644",
   "metadata": {
    "colab": {
     "background_save": true
    },
    "id": "86e3a644"
   },
   "outputs": [],
   "source": [
    "# to do classification only skilss\n",
    "def extractSkills(string):\n",
    "    if isinstance(string,float):\n",
    "        return [\" \",\" \"]\n",
    "    lst = string.split(',')\n",
    "    lst = [s.strip() for s in lst]\n",
    "    return lst\n",
    "\n",
    "jdDataSet['cleaned_jd'] += jdDataSet.skills.apply(lambda x: list(extractSkills(x)) + list(extractSkills(x)))\n",
    "\n",
    "# jdDataSet['cleaned_jd'][2]"
   ]
  },
  {
   "cell_type": "code",
   "execution_count": 12,
   "id": "441ac4d5",
   "metadata": {
    "colab": {
     "background_save": true
    },
    "id": "441ac4d5"
   },
   "outputs": [
    {
     "data": {
      "text/html": [
       "<div>\n",
       "<style scoped>\n",
       "    .dataframe tbody tr th:only-of-type {\n",
       "        vertical-align: middle;\n",
       "    }\n",
       "\n",
       "    .dataframe tbody tr th {\n",
       "        vertical-align: top;\n",
       "    }\n",
       "\n",
       "    .dataframe thead th {\n",
       "        text-align: right;\n",
       "    }\n",
       "</style>\n",
       "<table border=\"1\" class=\"dataframe\">\n",
       "  <thead>\n",
       "    <tr style=\"text-align: right;\">\n",
       "      <th></th>\n",
       "      <th>title</th>\n",
       "      <th>description</th>\n",
       "      <th>skills</th>\n",
       "      <th>cleaned_jd</th>\n",
       "    </tr>\n",
       "  </thead>\n",
       "  <tbody>\n",
       "    <tr>\n",
       "      <th>644</th>\n",
       "      <td>swift developer</td>\n",
       "      <td>As a team member of the BESS/SWIFT Application...</td>\n",
       "      <td>swift</td>\n",
       "      <td>[nan, project, development, infrastructure, it...</td>\n",
       "    </tr>\n",
       "    <tr>\n",
       "      <th>847</th>\n",
       "      <td>technical support</td>\n",
       "      <td>GoAhead Solutions has an immediate need for a ...</td>\n",
       "      <td>Desktop Support Analyst, Mac iOS, Windows OS, ...</td>\n",
       "      <td>[nan, project, ssis, project management, custo...</td>\n",
       "    </tr>\n",
       "    <tr>\n",
       "      <th>1280</th>\n",
       "      <td>php developer</td>\n",
       "      <td>PHP Developer (Front-end) A exiting growing co...</td>\n",
       "      <td>PHP, jQuery, , Front-end Development, Back-end...</td>\n",
       "      <td>[project, development, excel, it, c, programmi...</td>\n",
       "    </tr>\n",
       "    <tr>\n",
       "      <th>2280</th>\n",
       "      <td>c++ developer</td>\n",
       "      <td>Synechron, a recognized leader and expert in b...</td>\n",
       "      <td>C++ Developer</td>\n",
       "      <td>[nan, data warehouse, it, architecture, c, pro...</td>\n",
       "    </tr>\n",
       "    <tr>\n",
       "      <th>1778</th>\n",
       "      <td>front end developer</td>\n",
       "      <td>Sr.Front End Developer Modis is looking for a ...</td>\n",
       "      <td>Sr.Front End Developer</td>\n",
       "      <td>[it, c, git, design, ui, browser, r, Sr.Front ...</td>\n",
       "    </tr>\n",
       "    <tr>\n",
       "      <th>...</th>\n",
       "      <td>...</td>\n",
       "      <td>...</td>\n",
       "      <td>...</td>\n",
       "      <td>...</td>\n",
       "    </tr>\n",
       "    <tr>\n",
       "      <th>1863</th>\n",
       "      <td>full stack developer</td>\n",
       "      <td>Apex is seeking a Java/J2EE Software Engineer ...</td>\n",
       "      <td>GWT Hibernate Oracle SQL Java J2EE</td>\n",
       "      <td>[html css, supervision, it, architecture, c, d...</td>\n",
       "    </tr>\n",
       "    <tr>\n",
       "      <th>1330</th>\n",
       "      <td>site reliability engineer</td>\n",
       "      <td>The SRE team works on coding, automating, and ...</td>\n",
       "      <td>API, Data Warehouse, Hadoop, Linux, Management...</td>\n",
       "      <td>[oop, data warehouse, infrastructure, it, c, u...</td>\n",
       "    </tr>\n",
       "    <tr>\n",
       "      <th>2213</th>\n",
       "      <td>c developer</td>\n",
       "      <td>SCOPE OF SERVICES:A CMS developer will be resp...</td>\n",
       "      <td>CMS, Java, Teamsite</td>\n",
       "      <td>[project, development, project management, sup...</td>\n",
       "    </tr>\n",
       "    <tr>\n",
       "      <th>2055</th>\n",
       "      <td>.net developer</td>\n",
       "      <td>The Senior Developer will work closely with th...</td>\n",
       "      <td>.net; c#; asp.net; mvc; RESTful; WebAPI's; SQL...</td>\n",
       "      <td>[business analyst, development, engineer, web,...</td>\n",
       "    </tr>\n",
       "    <tr>\n",
       "      <th>2267</th>\n",
       "      <td>c++ developer</td>\n",
       "      <td>*NO THIRD PARTY RESUMES* U.S. Citizens and tho...</td>\n",
       "      <td>C++, Java, or C#, UNIX</td>\n",
       "      <td>[project, ssis, development, it, c, programmin...</td>\n",
       "    </tr>\n",
       "  </tbody>\n",
       "</table>\n",
       "<p>1750 rows × 4 columns</p>\n",
       "</div>"
      ],
      "text/plain": [
       "                          title  \\\n",
       "644             swift developer   \n",
       "847           technical support   \n",
       "1280              php developer   \n",
       "2280              c++ developer   \n",
       "1778        front end developer   \n",
       "...                         ...   \n",
       "1863       full stack developer   \n",
       "1330  site reliability engineer   \n",
       "2213                c developer   \n",
       "2055             .net developer   \n",
       "2267              c++ developer   \n",
       "\n",
       "                                            description  \\\n",
       "644   As a team member of the BESS/SWIFT Application...   \n",
       "847   GoAhead Solutions has an immediate need for a ...   \n",
       "1280  PHP Developer (Front-end) A exiting growing co...   \n",
       "2280  Synechron, a recognized leader and expert in b...   \n",
       "1778  Sr.Front End Developer Modis is looking for a ...   \n",
       "...                                                 ...   \n",
       "1863  Apex is seeking a Java/J2EE Software Engineer ...   \n",
       "1330  The SRE team works on coding, automating, and ...   \n",
       "2213  SCOPE OF SERVICES:A CMS developer will be resp...   \n",
       "2055  The Senior Developer will work closely with th...   \n",
       "2267  *NO THIRD PARTY RESUMES* U.S. Citizens and tho...   \n",
       "\n",
       "                                                 skills  \\\n",
       "644                                               swift   \n",
       "847   Desktop Support Analyst, Mac iOS, Windows OS, ...   \n",
       "1280  PHP, jQuery, , Front-end Development, Back-end...   \n",
       "2280                                      C++ Developer   \n",
       "1778                             Sr.Front End Developer   \n",
       "...                                                 ...   \n",
       "1863                 GWT Hibernate Oracle SQL Java J2EE   \n",
       "1330  API, Data Warehouse, Hadoop, Linux, Management...   \n",
       "2213                                CMS, Java, Teamsite   \n",
       "2055  .net; c#; asp.net; mvc; RESTful; WebAPI's; SQL...   \n",
       "2267                             C++, Java, or C#, UNIX   \n",
       "\n",
       "                                             cleaned_jd  \n",
       "644   [nan, project, development, infrastructure, it...  \n",
       "847   [nan, project, ssis, project management, custo...  \n",
       "1280  [project, development, excel, it, c, programmi...  \n",
       "2280  [nan, data warehouse, it, architecture, c, pro...  \n",
       "1778  [it, c, git, design, ui, browser, r, Sr.Front ...  \n",
       "...                                                 ...  \n",
       "1863  [html css, supervision, it, architecture, c, d...  \n",
       "1330  [oop, data warehouse, infrastructure, it, c, u...  \n",
       "2213  [project, development, project management, sup...  \n",
       "2055  [business analyst, development, engineer, web,...  \n",
       "2267  [project, ssis, development, it, c, programmin...  \n",
       "\n",
       "[1750 rows x 4 columns]"
      ]
     },
     "execution_count": 12,
     "metadata": {},
     "output_type": "execute_result"
    }
   ],
   "source": [
    "train, test = train_test_split(jdDataSet, test_size=0.3, random_state=40)\n",
    "\n",
    "train_tagged = train.apply( lambda r: TaggedDocument(words=r['cleaned_jd'], tags=[r.title]), axis=1)\n",
    "test_tagged = test.apply( lambda r: TaggedDocument(words=r['cleaned_jd'], tags=[r.title]), axis=1)\n",
    "\n",
    "train"
   ]
  },
  {
   "cell_type": "code",
   "execution_count": 13,
   "id": "18762ca4",
   "metadata": {
    "colab": {
     "background_save": true
    },
    "id": "18762ca4"
   },
   "outputs": [
    {
     "data": {
      "text/html": [
       "<div>\n",
       "<style scoped>\n",
       "    .dataframe tbody tr th:only-of-type {\n",
       "        vertical-align: middle;\n",
       "    }\n",
       "\n",
       "    .dataframe tbody tr th {\n",
       "        vertical-align: top;\n",
       "    }\n",
       "\n",
       "    .dataframe thead th {\n",
       "        text-align: right;\n",
       "    }\n",
       "</style>\n",
       "<table border=\"1\" class=\"dataframe\">\n",
       "  <thead>\n",
       "    <tr style=\"text-align: right;\">\n",
       "      <th></th>\n",
       "      <th>title</th>\n",
       "      <th>description</th>\n",
       "      <th>skills</th>\n",
       "      <th>cleaned_jd</th>\n",
       "    </tr>\n",
       "  </thead>\n",
       "  <tbody>\n",
       "    <tr>\n",
       "      <th>2383</th>\n",
       "      <td>database engineer</td>\n",
       "      <td>Role: Database EngineerLocation: Palo Alto, CA...</td>\n",
       "      <td>Apache Storm, Java, Linux</td>\n",
       "      <td>[scripts, python, oop, ssis, it, c, ux, ui, oo...</td>\n",
       "    </tr>\n",
       "    <tr>\n",
       "      <th>1297</th>\n",
       "      <td>php developer</td>\n",
       "      <td>PHP Developer Location: Atlanta, GASalary Rang...</td>\n",
       "      <td>PHP, CakePHP, Laravel, HTML5, CSS3, JQuery, An...</td>\n",
       "      <td>[nan, ssis, development, engineer, it, c, desi...</td>\n",
       "    </tr>\n",
       "    <tr>\n",
       "      <th>2</th>\n",
       "      <td>ux designer</td>\n",
       "      <td>HIGreetings from Data inc!!! Hope you are doin...</td>\n",
       "      <td>\"ui designer\" , \"user interface designer\" , \"v...</td>\n",
       "      <td>[nan, project, ssis, engineer, ios, web, it, c...</td>\n",
       "    </tr>\n",
       "    <tr>\n",
       "      <th>1647</th>\n",
       "      <td>technology analyst</td>\n",
       "      <td>Infosys Digital Experience Technology Analyst ...</td>\n",
       "      <td>Drupal 7.x,PHP, Programmer</td>\n",
       "      <td>[lifecycle, development, excel, engineer, it, ...</td>\n",
       "    </tr>\n",
       "    <tr>\n",
       "      <th>1356</th>\n",
       "      <td>hadoop developer</td>\n",
       "      <td>Dear Candidate,For our client, a major company...</td>\n",
       "      <td>Big Data Hadoop Hive Pig MapReduce Spark Scala...</td>\n",
       "      <td>[oop, metrics, etl, it, c, rest, ui, r, api, s...</td>\n",
       "    </tr>\n",
       "    <tr>\n",
       "      <th>...</th>\n",
       "      <td>...</td>\n",
       "      <td>...</td>\n",
       "      <td>...</td>\n",
       "      <td>...</td>\n",
       "    </tr>\n",
       "    <tr>\n",
       "      <th>1931</th>\n",
       "      <td>software engineer</td>\n",
       "      <td>Client: Xavient/ Sling TVLocation: American Fo...</td>\n",
       "      <td>10 years of professional enterprise and Postgr...</td>\n",
       "      <td>[cloud, development, web, it, architecture, c,...</td>\n",
       "    </tr>\n",
       "    <tr>\n",
       "      <th>649</th>\n",
       "      <td>swift developer</td>\n",
       "      <td>As a team member of the BESS/SWIFT Application...</td>\n",
       "      <td>swift</td>\n",
       "      <td>[nan, project, development, infrastructure, it...</td>\n",
       "    </tr>\n",
       "    <tr>\n",
       "      <th>293</th>\n",
       "      <td>network engineer</td>\n",
       "      <td>Duties and ResponsibilitiesIn this F5 Load Bal...</td>\n",
       "      <td>IP Routing (BGP &amp; OSPF), SSL Termination; Ethe...</td>\n",
       "      <td>[router, infrastructure, engineer, it, c, desi...</td>\n",
       "    </tr>\n",
       "    <tr>\n",
       "      <th>502</th>\n",
       "      <td>testing</td>\n",
       "      <td>Role: AB TestingLocation: San Bruno, CAFull  T...</td>\n",
       "      <td>A/B, MVT tests, Retail, ecommerce</td>\n",
       "      <td>[nan, project, excel, project management, web,...</td>\n",
       "    </tr>\n",
       "    <tr>\n",
       "      <th>98</th>\n",
       "      <td>infrastructure engineer</td>\n",
       "      <td>Infrastructure/Systems EngineerPermanent salar...</td>\n",
       "      <td>Windows, SCCM, WSUS, iOS, Android, Cisco, SAN,...</td>\n",
       "      <td>[ssis, router, infrastructure, engineer, netwo...</td>\n",
       "    </tr>\n",
       "  </tbody>\n",
       "</table>\n",
       "<p>750 rows × 4 columns</p>\n",
       "</div>"
      ],
      "text/plain": [
       "                        title  \\\n",
       "2383        database engineer   \n",
       "1297            php developer   \n",
       "2                 ux designer   \n",
       "1647       technology analyst   \n",
       "1356         hadoop developer   \n",
       "...                       ...   \n",
       "1931        software engineer   \n",
       "649           swift developer   \n",
       "293          network engineer   \n",
       "502                   testing   \n",
       "98    infrastructure engineer   \n",
       "\n",
       "                                            description  \\\n",
       "2383  Role: Database EngineerLocation: Palo Alto, CA...   \n",
       "1297  PHP Developer Location: Atlanta, GASalary Rang...   \n",
       "2     HIGreetings from Data inc!!! Hope you are doin...   \n",
       "1647  Infosys Digital Experience Technology Analyst ...   \n",
       "1356  Dear Candidate,For our client, a major company...   \n",
       "...                                                 ...   \n",
       "1931  Client: Xavient/ Sling TVLocation: American Fo...   \n",
       "649   As a team member of the BESS/SWIFT Application...   \n",
       "293   Duties and ResponsibilitiesIn this F5 Load Bal...   \n",
       "502   Role: AB TestingLocation: San Bruno, CAFull  T...   \n",
       "98    Infrastructure/Systems EngineerPermanent salar...   \n",
       "\n",
       "                                                 skills  \\\n",
       "2383                          Apache Storm, Java, Linux   \n",
       "1297  PHP, CakePHP, Laravel, HTML5, CSS3, JQuery, An...   \n",
       "2     \"ui designer\" , \"user interface designer\" , \"v...   \n",
       "1647                         Drupal 7.x,PHP, Programmer   \n",
       "1356  Big Data Hadoop Hive Pig MapReduce Spark Scala...   \n",
       "...                                                 ...   \n",
       "1931  10 years of professional enterprise and Postgr...   \n",
       "649                                               swift   \n",
       "293   IP Routing (BGP & OSPF), SSL Termination; Ethe...   \n",
       "502                   A/B, MVT tests, Retail, ecommerce   \n",
       "98    Windows, SCCM, WSUS, iOS, Android, Cisco, SAN,...   \n",
       "\n",
       "                                             cleaned_jd  \n",
       "2383  [scripts, python, oop, ssis, it, c, ux, ui, oo...  \n",
       "1297  [nan, ssis, development, engineer, it, c, desi...  \n",
       "2     [nan, project, ssis, engineer, ios, web, it, c...  \n",
       "1647  [lifecycle, development, excel, engineer, it, ...  \n",
       "1356  [oop, metrics, etl, it, c, rest, ui, r, api, s...  \n",
       "...                                                 ...  \n",
       "1931  [cloud, development, web, it, architecture, c,...  \n",
       "649   [nan, project, development, infrastructure, it...  \n",
       "293   [router, infrastructure, engineer, it, c, desi...  \n",
       "502   [nan, project, excel, project management, web,...  \n",
       "98    [ssis, router, infrastructure, engineer, netwo...  \n",
       "\n",
       "[750 rows x 4 columns]"
      ]
     },
     "execution_count": 13,
     "metadata": {},
     "output_type": "execute_result"
    }
   ],
   "source": [
    "test"
   ]
  },
  {
   "cell_type": "code",
   "execution_count": 14,
   "id": "07faf525",
   "metadata": {
    "colab": {
     "background_save": true
    },
    "id": "07faf525"
   },
   "outputs": [],
   "source": [
    "cores = multiprocessing.cpu_count()"
   ]
  },
  {
   "cell_type": "code",
   "execution_count": 15,
   "id": "7059732f",
   "metadata": {
    "colab": {
     "background_save": true
    },
    "id": "7059732f",
    "scrolled": true
   },
   "outputs": [
    {
     "name": "stderr",
     "output_type": "stream",
     "text": [
      "100%|██████████| 1750/1750 [00:00<00:00, 863838.06it/s]\n"
     ]
    },
    {
     "data": {
      "text/plain": [
       "array([ 2.23742961e-03,  1.89470930e-03,  2.25348165e-03,  2.13084137e-03,\n",
       "        1.75881386e-03,  2.01930595e-03,  9.10008734e-04, -2.42663152e-03,\n",
       "       -3.07511096e-03,  2.89841974e-03,  2.85628089e-03,  2.85240170e-03,\n",
       "        1.70091388e-03,  7.80374976e-04, -2.12991703e-03,  3.30878026e-03,\n",
       "       -6.21895015e-04, -2.42016464e-03,  3.03927256e-04,  1.04176207e-03,\n",
       "        5.22669929e-04, -1.98262464e-03, -2.50674249e-03,  2.16893991e-03,\n",
       "       -1.62727514e-03,  2.93948175e-03,  3.12334625e-03, -1.39861106e-04,\n",
       "       -5.14285581e-04,  4.60556359e-04, -2.10257922e-03,  2.23298720e-03,\n",
       "        1.84464687e-03,  1.08514552e-03,  8.81273765e-04, -2.90272082e-03,\n",
       "        2.53464305e-03,  2.76705832e-03, -1.40194898e-04, -1.99437863e-03,\n",
       "        6.91867666e-04,  2.49203527e-03,  2.56379440e-06,  2.96317739e-04,\n",
       "       -1.35694188e-03,  2.61255889e-04,  1.87914772e-03,  7.17547722e-04,\n",
       "        1.72904250e-03,  2.72268942e-03, -7.06175982e-04, -7.30224478e-04,\n",
       "        2.28521670e-03, -1.14126608e-03, -2.36853445e-03,  1.12297770e-03,\n",
       "        2.23960332e-03,  1.94488361e-03, -3.07319872e-03,  1.45593088e-03,\n",
       "        1.38102216e-03, -1.31766160e-03, -9.21111088e-04,  3.32872383e-03,\n",
       "       -9.42351820e-04,  1.21542299e-03,  4.68446407e-04, -7.63421878e-04,\n",
       "       -4.28361906e-04,  1.95782181e-04,  1.40910468e-03,  4.69768042e-04,\n",
       "        2.17622449e-03,  2.80093588e-03, -7.44682970e-04,  1.23869732e-03,\n",
       "        2.05516419e-03, -2.72146077e-03, -2.42656702e-03,  3.22880107e-03,\n",
       "        4.54480643e-04,  5.24092524e-04, -1.33896992e-03,  1.03312568e-03,\n",
       "       -8.55755818e-04,  1.53962371e-03, -2.93684006e-05, -1.06329122e-03,\n",
       "       -3.75403557e-04,  3.06070177e-03,  4.99973306e-04,  7.23065517e-04,\n",
       "       -1.63002964e-03, -7.77323265e-04, -2.95174448e-03, -2.82491371e-03,\n",
       "       -2.18210858e-03,  1.97732681e-03,  3.18709761e-03,  1.41283427e-03,\n",
       "        9.30403883e-04, -2.79835309e-03,  1.32219074e-03, -1.28458103e-03,\n",
       "       -1.64748111e-03, -1.94899239e-05, -1.01318839e-03, -1.89306180e-03,\n",
       "        3.05698882e-03, -1.56436837e-03,  1.54964917e-04,  3.06497980e-03,\n",
       "       -5.90623240e-04,  3.18719936e-03, -4.35566093e-04, -2.46820762e-03,\n",
       "       -1.35126745e-03, -5.53043683e-05, -1.21748680e-03, -2.68906285e-03,\n",
       "        1.88921695e-03, -1.19522330e-03,  2.77885050e-03, -2.21635425e-03,\n",
       "       -2.35943473e-03, -2.84147193e-03, -1.17596705e-03, -5.31208527e-04,\n",
       "        2.12668572e-04,  1.58142089e-03, -4.58156253e-04, -6.46932895e-05,\n",
       "       -3.07495520e-03, -8.56481376e-04, -1.93487562e-03,  1.55933702e-03,\n",
       "       -1.09594420e-03,  5.97844890e-04,  1.02067867e-03,  5.43506118e-04,\n",
       "        3.42562213e-04, -4.78921720e-04,  3.12315952e-03, -3.18526337e-03,\n",
       "        2.75711296e-03, -1.90989894e-03,  8.05450254e-04,  2.53851502e-03,\n",
       "       -1.79654278e-03, -1.30867964e-04, -1.23766984e-03, -1.84694852e-03,\n",
       "        1.90508680e-03,  2.58872984e-03, -1.02401653e-03,  2.71024555e-03,\n",
       "       -2.50059692e-03,  1.41235825e-03,  2.42429017e-03, -2.35779048e-03,\n",
       "        1.15222138e-04, -4.74054803e-04, -4.23819234e-04, -9.49771376e-04,\n",
       "        1.75945763e-03, -2.56995996e-03,  5.16269996e-04, -6.11207506e-04,\n",
       "       -2.34921463e-03, -6.28208334e-04, -1.38958218e-03,  7.49998086e-04,\n",
       "       -6.74196868e-04, -2.47961609e-03, -5.96555066e-04, -4.03423299e-04,\n",
       "       -2.64945510e-03, -2.00178148e-03,  8.94528232e-04, -2.69365543e-03,\n",
       "        1.56988302e-04,  2.91292020e-03, -2.50510219e-03,  2.87009962e-03,\n",
       "        1.66419346e-03,  1.13923149e-03,  1.74458825e-03,  1.84080203e-03,\n",
       "       -8.98949278e-04,  2.32006470e-03,  1.91198033e-03, -2.24718731e-03,\n",
       "        7.10759137e-04,  2.01760698e-03, -3.09493300e-03,  1.93047526e-05,\n",
       "        5.23058588e-05,  2.52379407e-03, -1.94232143e-03,  2.34397966e-03,\n",
       "       -8.50884942e-04,  1.57179835e-03, -4.09753324e-04,  2.60049431e-03,\n",
       "       -1.11611921e-03,  3.11319996e-03,  1.61336421e-03,  1.66131975e-03,\n",
       "       -1.50097848e-03, -3.14823774e-05, -4.99021204e-04,  2.44240533e-03,\n",
       "       -8.19259498e-04, -2.67042872e-03,  1.41638913e-03,  1.00633304e-04,\n",
       "        1.52481638e-03,  2.07048492e-03, -2.94801081e-03,  3.04903509e-03,\n",
       "        3.09678866e-03,  1.73961802e-03, -1.69221405e-03, -5.48910291e-04,\n",
       "       -2.27424619e-03,  2.71696877e-03,  2.80165044e-03, -3.03324382e-03,\n",
       "       -1.44762511e-03,  1.19754393e-03, -2.22826004e-03,  1.63144513e-03,\n",
       "        1.44763628e-03, -1.91797491e-03,  3.21548549e-03,  2.38281488e-03,\n",
       "        4.52200584e-06, -9.72946465e-04, -2.50185956e-03,  2.06686486e-03,\n",
       "        2.43475288e-03, -1.79802103e-03, -1.39405567e-03, -3.21875652e-03,\n",
       "        5.42035908e-04,  2.47811549e-03, -3.34645913e-04, -1.56945863e-03,\n",
       "       -3.30909179e-03, -1.81152031e-03,  1.42334227e-03,  2.82215443e-03,\n",
       "       -2.79361731e-03, -2.00857321e-04, -3.41353414e-04,  1.46773658e-04,\n",
       "       -2.78551341e-03, -1.04254961e-03, -2.10995111e-03, -2.55125039e-03,\n",
       "       -1.89613423e-03,  5.09752426e-04, -4.70693107e-04,  3.42687767e-04,\n",
       "       -6.25816174e-04,  1.07441819e-03,  1.93565851e-03, -1.63971505e-03,\n",
       "       -2.94097816e-03,  1.03485188e-03, -3.30034015e-03, -2.32138627e-04,\n",
       "       -4.65969235e-04,  2.80732312e-03, -1.43446680e-03, -4.93129890e-04,\n",
       "       -3.26905958e-03, -1.72551232e-03,  2.04763026e-03,  1.79714046e-03,\n",
       "       -2.73517054e-03, -2.02867179e-03, -5.36338484e-04, -1.08930268e-04,\n",
       "        1.90902792e-03,  3.16250254e-03, -1.36141060e-03,  5.33592713e-04,\n",
       "       -2.94049899e-03, -1.88462099e-03, -4.20848519e-05, -1.67956273e-03,\n",
       "        3.31473420e-03,  3.06034018e-03, -2.16267910e-03, -1.54378894e-03,\n",
       "       -2.93425634e-03, -1.77353621e-03, -8.30539066e-05, -1.92207808e-03],\n",
       "      dtype=float32)"
      ]
     },
     "execution_count": 15,
     "metadata": {},
     "output_type": "execute_result"
    }
   ],
   "source": [
    "model_dbow = Doc2Vec(dm=0, vector_size=300, negative=5, hs=0, min_count=2, sample = 0, workers=cores,alpha=0.065, min_alpha=0.065)\n",
    "model_dbow.build_vocab([x for x in tqdm(train_tagged.values)])\n",
    "model_dbow['java developer']"
   ]
  },
  {
   "cell_type": "code",
   "execution_count": 16,
   "id": "fe2dae49",
   "metadata": {
    "colab": {
     "background_save": true
    },
    "id": "fe2dae49"
   },
   "outputs": [
    {
     "name": "stderr",
     "output_type": "stream",
     "text": [
      "100%|██████████| 1750/1750 [00:00<00:00, 1695157.51it/s]\n",
      "100%|██████████| 1750/1750 [00:00<?, ?it/s]\n",
      "100%|██████████| 1750/1750 [00:00<00:00, 1757249.70it/s]\n",
      "100%|██████████| 1750/1750 [00:00<00:00, 1755148.73it/s]\n",
      "100%|██████████| 1750/1750 [00:00<00:00, 1755988.52it/s]\n",
      "100%|██████████| 1750/1750 [00:00<00:00, 1754729.14it/s]\n",
      "100%|██████████| 1750/1750 [00:00<?, ?it/s]\n",
      "100%|██████████| 1750/1750 [00:00<00:00, 1753890.56it/s]\n",
      "100%|██████████| 1750/1750 [00:00<00:00, 1754729.14it/s]\n",
      "100%|██████████| 1750/1750 [00:00<?, ?it/s]\n",
      "100%|██████████| 1750/1750 [00:00<00:00, 1753890.56it/s]\n",
      "100%|██████████| 1750/1750 [00:00<00:00, 1681180.03it/s]\n",
      "100%|██████████| 1750/1750 [00:00<00:00, 1754309.75it/s]\n",
      "100%|██████████| 1750/1750 [00:00<00:00, 1753471.57it/s]\n",
      "100%|██████████| 1750/1750 [00:00<?, ?it/s]\n",
      "100%|██████████| 1750/1750 [00:00<?, ?it/s]\n",
      "100%|██████████| 1750/1750 [00:00<?, ?it/s]\n",
      "100%|██████████| 1750/1750 [00:00<?, ?it/s]\n",
      "100%|██████████| 1750/1750 [00:00<00:00, 1755568.52it/s]\n",
      "100%|██████████| 1750/1750 [00:00<00:00, 1753471.57it/s]\n",
      "100%|██████████| 1750/1750 [00:00<?, ?it/s]\n",
      "100%|██████████| 1750/1750 [00:00<00:00, 1758091.50it/s]\n",
      "100%|██████████| 1750/1750 [00:00<00:00, 1755148.73it/s]\n",
      "100%|██████████| 1750/1750 [00:00<00:00, 1695157.51it/s]\n",
      "100%|██████████| 1750/1750 [00:00<?, ?it/s]\n",
      "100%|██████████| 1750/1750 [00:00<00:00, 1754309.75it/s]\n",
      "100%|██████████| 1750/1750 [00:00<00:00, 1756408.71it/s]\n",
      "100%|██████████| 1750/1750 [00:00<00:00, 1745963.84it/s]\n",
      "100%|██████████| 1750/1750 [00:00<00:00, 1754729.14it/s]\n",
      "100%|██████████| 1750/1750 [00:00<00:00, 1744718.80it/s]\n"
     ]
    },
    {
     "name": "stdout",
     "output_type": "stream",
     "text": [
      "Wall time: 2.44 s\n"
     ]
    }
   ],
   "source": [
    "%%time\n",
    "for epoch in range(30):\n",
    "    model_dbow.train(utils.shuffle([x for x in tqdm(train_tagged.values)]), total_examples=len(train_tagged.values), epochs=1)\n",
    "    model_dbow.alpha -= 0.002\n",
    "    model_dbow.min_alpha = model_dbow.alpha"
   ]
  },
  {
   "cell_type": "code",
   "execution_count": 17,
   "id": "d5d6da68",
   "metadata": {
    "colab": {
     "background_save": true
    },
    "id": "d5d6da68"
   },
   "outputs": [],
   "source": [
    "def vec_for_learning(model, tagged_docs):\n",
    "    sents = tagged_docs.values\n",
    "    targets, regressors = zip(*[(doc.tags[0], model.infer_vector(doc.words,alpha=0.065)) for doc in sents])\n",
    "    return targets, regressors"
   ]
  },
  {
   "cell_type": "code",
   "execution_count": 18,
   "id": "3cdd7537",
   "metadata": {
    "id": "3cdd7537"
   },
   "outputs": [
    {
     "ename": "TypeError",
     "evalue": "sequence item 0: expected str instance, float found",
     "output_type": "error",
     "traceback": [
      "\u001b[1;31m---------------------------------------------------------------------------\u001b[0m",
      "\u001b[1;31mTypeError\u001b[0m                                 Traceback (most recent call last)",
      "\u001b[1;32m~\\AppData\\Local\\Temp/ipykernel_12120/1970025632.py\u001b[0m in \u001b[0;36m<module>\u001b[1;34m\u001b[0m\n\u001b[1;32m----> 1\u001b[1;33m \u001b[0my_train\u001b[0m\u001b[1;33m,\u001b[0m \u001b[0mX_train\u001b[0m \u001b[1;33m=\u001b[0m \u001b[0mvec_for_learning\u001b[0m\u001b[1;33m(\u001b[0m\u001b[0mmodel_dbow\u001b[0m\u001b[1;33m,\u001b[0m \u001b[0mtrain_tagged\u001b[0m\u001b[1;33m)\u001b[0m\u001b[1;33m\u001b[0m\u001b[1;33m\u001b[0m\u001b[0m\n\u001b[0m\u001b[0;32m      2\u001b[0m \u001b[0my_test\u001b[0m\u001b[1;33m,\u001b[0m \u001b[0mX_test\u001b[0m \u001b[1;33m=\u001b[0m \u001b[0mvec_for_learning\u001b[0m\u001b[1;33m(\u001b[0m\u001b[0mmodel_dbow\u001b[0m\u001b[1;33m,\u001b[0m \u001b[0mtest_tagged\u001b[0m\u001b[1;33m)\u001b[0m\u001b[1;33m\u001b[0m\u001b[1;33m\u001b[0m\u001b[0m\n\u001b[0;32m      3\u001b[0m \u001b[1;33m\u001b[0m\u001b[0m\n\u001b[0;32m      4\u001b[0m \u001b[0mlogreg\u001b[0m \u001b[1;33m=\u001b[0m \u001b[0mLogisticRegression\u001b[0m\u001b[1;33m(\u001b[0m\u001b[0mn_jobs\u001b[0m\u001b[1;33m=\u001b[0m\u001b[1;36m1\u001b[0m\u001b[1;33m,\u001b[0m \u001b[0mC\u001b[0m\u001b[1;33m=\u001b[0m\u001b[1;36m1e10\u001b[0m\u001b[1;33m,\u001b[0m\u001b[0mmax_iter\u001b[0m\u001b[1;33m=\u001b[0m\u001b[1;36m30000\u001b[0m\u001b[1;33m)\u001b[0m\u001b[1;33m\u001b[0m\u001b[1;33m\u001b[0m\u001b[0m\n\u001b[0;32m      5\u001b[0m \u001b[0mlogreg\u001b[0m\u001b[1;33m.\u001b[0m\u001b[0mfit\u001b[0m\u001b[1;33m(\u001b[0m\u001b[0mX_train\u001b[0m\u001b[1;33m,\u001b[0m \u001b[0my_train\u001b[0m\u001b[1;33m)\u001b[0m\u001b[1;33m\u001b[0m\u001b[1;33m\u001b[0m\u001b[0m\n",
      "\u001b[1;32m~\\AppData\\Local\\Temp/ipykernel_12120/656177546.py\u001b[0m in \u001b[0;36mvec_for_learning\u001b[1;34m(model, tagged_docs)\u001b[0m\n\u001b[0;32m      1\u001b[0m \u001b[1;32mdef\u001b[0m \u001b[0mvec_for_learning\u001b[0m\u001b[1;33m(\u001b[0m\u001b[0mmodel\u001b[0m\u001b[1;33m,\u001b[0m \u001b[0mtagged_docs\u001b[0m\u001b[1;33m)\u001b[0m\u001b[1;33m:\u001b[0m\u001b[1;33m\u001b[0m\u001b[1;33m\u001b[0m\u001b[0m\n\u001b[0;32m      2\u001b[0m     \u001b[0msents\u001b[0m \u001b[1;33m=\u001b[0m \u001b[0mtagged_docs\u001b[0m\u001b[1;33m.\u001b[0m\u001b[0mvalues\u001b[0m\u001b[1;33m\u001b[0m\u001b[1;33m\u001b[0m\u001b[0m\n\u001b[1;32m----> 3\u001b[1;33m     \u001b[0mtargets\u001b[0m\u001b[1;33m,\u001b[0m \u001b[0mregressors\u001b[0m \u001b[1;33m=\u001b[0m \u001b[0mzip\u001b[0m\u001b[1;33m(\u001b[0m\u001b[1;33m*\u001b[0m\u001b[1;33m[\u001b[0m\u001b[1;33m(\u001b[0m\u001b[0mstr\u001b[0m\u001b[1;33m(\u001b[0m\u001b[0mdoc\u001b[0m\u001b[1;33m.\u001b[0m\u001b[0mtags\u001b[0m\u001b[1;33m[\u001b[0m\u001b[1;36m0\u001b[0m\u001b[1;33m]\u001b[0m\u001b[1;33m)\u001b[0m\u001b[1;33m,\u001b[0m \u001b[0mmodel\u001b[0m\u001b[1;33m.\u001b[0m\u001b[0minfer_vector\u001b[0m\u001b[1;33m(\u001b[0m\u001b[0mdoc\u001b[0m\u001b[1;33m.\u001b[0m\u001b[0mwords\u001b[0m\u001b[1;33m,\u001b[0m\u001b[0malpha\u001b[0m\u001b[1;33m=\u001b[0m\u001b[1;36m0.065\u001b[0m\u001b[1;33m)\u001b[0m\u001b[1;33m)\u001b[0m \u001b[1;32mfor\u001b[0m \u001b[0mdoc\u001b[0m \u001b[1;32min\u001b[0m \u001b[0msents\u001b[0m\u001b[1;33m]\u001b[0m\u001b[1;33m)\u001b[0m\u001b[1;33m\u001b[0m\u001b[1;33m\u001b[0m\u001b[0m\n\u001b[0m\u001b[0;32m      4\u001b[0m     \u001b[1;32mreturn\u001b[0m \u001b[0mtargets\u001b[0m\u001b[1;33m,\u001b[0m \u001b[0mregressors\u001b[0m\u001b[1;33m\u001b[0m\u001b[1;33m\u001b[0m\u001b[0m\n",
      "\u001b[1;32m~\\AppData\\Local\\Temp/ipykernel_12120/656177546.py\u001b[0m in \u001b[0;36m<listcomp>\u001b[1;34m(.0)\u001b[0m\n\u001b[0;32m      1\u001b[0m \u001b[1;32mdef\u001b[0m \u001b[0mvec_for_learning\u001b[0m\u001b[1;33m(\u001b[0m\u001b[0mmodel\u001b[0m\u001b[1;33m,\u001b[0m \u001b[0mtagged_docs\u001b[0m\u001b[1;33m)\u001b[0m\u001b[1;33m:\u001b[0m\u001b[1;33m\u001b[0m\u001b[1;33m\u001b[0m\u001b[0m\n\u001b[0;32m      2\u001b[0m     \u001b[0msents\u001b[0m \u001b[1;33m=\u001b[0m \u001b[0mtagged_docs\u001b[0m\u001b[1;33m.\u001b[0m\u001b[0mvalues\u001b[0m\u001b[1;33m\u001b[0m\u001b[1;33m\u001b[0m\u001b[0m\n\u001b[1;32m----> 3\u001b[1;33m     \u001b[0mtargets\u001b[0m\u001b[1;33m,\u001b[0m \u001b[0mregressors\u001b[0m \u001b[1;33m=\u001b[0m \u001b[0mzip\u001b[0m\u001b[1;33m(\u001b[0m\u001b[1;33m*\u001b[0m\u001b[1;33m[\u001b[0m\u001b[1;33m(\u001b[0m\u001b[0mstr\u001b[0m\u001b[1;33m(\u001b[0m\u001b[0mdoc\u001b[0m\u001b[1;33m.\u001b[0m\u001b[0mtags\u001b[0m\u001b[1;33m[\u001b[0m\u001b[1;36m0\u001b[0m\u001b[1;33m]\u001b[0m\u001b[1;33m)\u001b[0m\u001b[1;33m,\u001b[0m \u001b[0mmodel\u001b[0m\u001b[1;33m.\u001b[0m\u001b[0minfer_vector\u001b[0m\u001b[1;33m(\u001b[0m\u001b[0mdoc\u001b[0m\u001b[1;33m.\u001b[0m\u001b[0mwords\u001b[0m\u001b[1;33m,\u001b[0m\u001b[0malpha\u001b[0m\u001b[1;33m=\u001b[0m\u001b[1;36m0.065\u001b[0m\u001b[1;33m)\u001b[0m\u001b[1;33m)\u001b[0m \u001b[1;32mfor\u001b[0m \u001b[0mdoc\u001b[0m \u001b[1;32min\u001b[0m \u001b[0msents\u001b[0m\u001b[1;33m]\u001b[0m\u001b[1;33m)\u001b[0m\u001b[1;33m\u001b[0m\u001b[1;33m\u001b[0m\u001b[0m\n\u001b[0m\u001b[0;32m      4\u001b[0m     \u001b[1;32mreturn\u001b[0m \u001b[0mtargets\u001b[0m\u001b[1;33m,\u001b[0m \u001b[0mregressors\u001b[0m\u001b[1;33m\u001b[0m\u001b[1;33m\u001b[0m\u001b[0m\n",
      "\u001b[1;32m~\\anaconda3\\lib\\site-packages\\gensim\\models\\doc2vec.py\u001b[0m in \u001b[0;36minfer_vector\u001b[1;34m(self, doc_words, alpha, min_alpha, epochs)\u001b[0m\n\u001b[0;32m    624\u001b[0m         \u001b[0mepochs\u001b[0m \u001b[1;33m=\u001b[0m \u001b[0mepochs\u001b[0m \u001b[1;32mor\u001b[0m \u001b[0mself\u001b[0m\u001b[1;33m.\u001b[0m\u001b[0mepochs\u001b[0m\u001b[1;33m\u001b[0m\u001b[1;33m\u001b[0m\u001b[0m\n\u001b[0;32m    625\u001b[0m \u001b[1;33m\u001b[0m\u001b[0m\n\u001b[1;32m--> 626\u001b[1;33m         \u001b[0mdoctag_vectors\u001b[0m \u001b[1;33m=\u001b[0m \u001b[0mpseudorandom_weak_vector\u001b[0m\u001b[1;33m(\u001b[0m\u001b[0mself\u001b[0m\u001b[1;33m.\u001b[0m\u001b[0mdv\u001b[0m\u001b[1;33m.\u001b[0m\u001b[0mvector_size\u001b[0m\u001b[1;33m,\u001b[0m \u001b[0mseed_string\u001b[0m\u001b[1;33m=\u001b[0m\u001b[1;34m' '\u001b[0m\u001b[1;33m.\u001b[0m\u001b[0mjoin\u001b[0m\u001b[1;33m(\u001b[0m\u001b[0mdoc_words\u001b[0m\u001b[1;33m)\u001b[0m\u001b[1;33m)\u001b[0m\u001b[1;33m\u001b[0m\u001b[1;33m\u001b[0m\u001b[0m\n\u001b[0m\u001b[0;32m    627\u001b[0m         \u001b[0mdoctag_vectors\u001b[0m \u001b[1;33m=\u001b[0m \u001b[0mdoctag_vectors\u001b[0m\u001b[1;33m.\u001b[0m\u001b[0mreshape\u001b[0m\u001b[1;33m(\u001b[0m\u001b[1;36m1\u001b[0m\u001b[1;33m,\u001b[0m \u001b[0mself\u001b[0m\u001b[1;33m.\u001b[0m\u001b[0mdv\u001b[0m\u001b[1;33m.\u001b[0m\u001b[0mvector_size\u001b[0m\u001b[1;33m)\u001b[0m\u001b[1;33m\u001b[0m\u001b[1;33m\u001b[0m\u001b[0m\n\u001b[0;32m    628\u001b[0m \u001b[1;33m\u001b[0m\u001b[0m\n",
      "\u001b[1;31mTypeError\u001b[0m: sequence item 0: expected str instance, float found"
     ]
    }
   ],
   "source": [
    "y_train, X_train = vec_for_learning(model_dbow, train_tagged)\n",
    "y_test, X_test = vec_for_learning(model_dbow, test_tagged)\n",
    "\n",
    "logreg = LogisticRegression(n_jobs=1, C=1e10,max_iter=30000)\n",
    "logreg.fit(X_train, y_train)\n",
    "y_pred = logreg.predict(X_test)\n",
    "\n",
    "from sklearn.metrics import accuracy_score, f1_score\n",
    "\n",
    "print('Testing accuracy %s' % accuracy_score(y_test, y_pred))\n",
    "print('Testing F1 score: {}'.format(f1_score(y_test, y_pred, average='weighted')))"
   ]
  },
  {
   "cell_type": "code",
   "execution_count": null,
   "id": "45b97cc6",
   "metadata": {
    "colab": {
     "background_save": true
    },
    "id": "45b97cc6"
   },
   "outputs": [],
   "source": [
    "model_dmm = Doc2Vec(dm=1, dm_mean=1, vector_size=300, window=10, negative=5, min_count=1, workers=5, alpha=0.065, min_alpha=0.065)\n",
    "model_dmm.build_vocab([x for x in tqdm(train_tagged.values)])"
   ]
  },
  {
   "cell_type": "code",
   "execution_count": null,
   "id": "796002b9",
   "metadata": {
    "colab": {
     "background_save": true
    },
    "id": "796002b9"
   },
   "outputs": [],
   "source": [
    "%%time\n",
    "for epoch in range(30):\n",
    "    model_dmm.train(utils.shuffle([x for x in tqdm(train_tagged.values)]), total_examples=len(train_tagged.values), epochs=1)\n",
    "    model_dmm.alpha -= 0.002\n",
    "    model_dmm.min_alpha = model_dmm.alpha"
   ]
  },
  {
   "cell_type": "code",
   "execution_count": null,
   "id": "201de0b6",
   "metadata": {
    "id": "201de0b6"
   },
   "outputs": [],
   "source": [
    "y_train, X_train = vec_for_learning(model_dmm, train_tagged)\n",
    "y_test, X_test = vec_for_learning(model_dmm, test_tagged)\n",
    "logreg.fit(X_train, y_train)\n",
    "y_pred = logreg.predict(X_test)\n",
    "print('Testing accuracy %s' % accuracy_score(y_test, y_pred))\n",
    "print('Testing F1 score: {}'.format(f1_score(y_test, y_pred, average='weighted')))"
   ]
  },
  {
   "cell_type": "code",
   "execution_count": null,
   "id": "9daa1da7",
   "metadata": {
    "id": "9daa1da7"
   },
   "outputs": [],
   "source": [
    "# model_dbow.delete_temporary_training_data(keep_doctags_vectors=True, keep_inference=True)\n",
    "# model_dmm.delete_temporary_training_data(keep_doctags_vectors=True, keep_inference=True)"
   ]
  },
  {
   "cell_type": "code",
   "execution_count": null,
   "id": "2bfc9a76",
   "metadata": {
    "id": "2bfc9a76"
   },
   "outputs": [],
   "source": [
    "# from gensim.test.test_doc2vec import ConcatenatedDoc2Vec\n",
    "class ConcatenatedDocvecs(object):\n",
    "    def __init__(self, models):\n",
    "        self.models = models\n",
    "\n",
    "    def __getitem__(self, token):\n",
    "        return np.concatenate([model[token] for model in self.models])\n",
    "\n",
    "class ConcatenatedDoc2Vec(object):\n",
    "    \"\"\"\n",
    "    Concatenation of multiple models for reproducing the Paragraph Vectors paper.\n",
    "    Models must have exactly-matching vocabulary and document IDs. (Models should\n",
    "    be trained separately; this wrapper just returns concatenated results.)\n",
    "    \"\"\"\n",
    "\n",
    "    def __init__(self, models):\n",
    "        self.models = models\n",
    "        if hasattr(models[0], 'docvecs'):\n",
    "            self.docvecs = ConcatenatedDocvecs([model.docvecs for model in models])\n",
    "\n",
    "    def __getitem__(self, token):\n",
    "        return np.concatenate([model[token] for model in self.models])\n",
    "\n",
    "    def infer_vector(self, document, alpha=0.065, min_alpha=0.065, steps=20):\n",
    "        return np.concatenate([model.infer_vector(document, alpha, min_alpha, steps) for model in self.models])\n",
    "\n",
    "    def train(self, *ignore_args, **ignore_kwargs):\n",
    "        pass  # train subcomponents individually\n",
    "\n",
    "new_model = ConcatenatedDoc2Vec([model_dbow, model_dmm])"
   ]
  },
  {
   "cell_type": "code",
   "execution_count": null,
   "id": "211980ca",
   "metadata": {
    "id": "211980ca"
   },
   "outputs": [],
   "source": [
    "def get_vectors(model, tagged_docs):\n",
    "    sents = tagged_docs.values\n",
    "    targets, regressors = zip(*[(doc.tags[0], model.infer_vector(doc.words, steps=20,alpha=0.065)) for doc in sents])\n",
    "    return targets, regressors"
   ]
  },
  {
   "cell_type": "code",
   "execution_count": null,
   "id": "61ec6bf8",
   "metadata": {
    "id": "61ec6bf8"
   },
   "outputs": [],
   "source": [
    "y_train, X_train = get_vectors(new_model, train_tagged)\n",
    "y_test, X_test = get_vectors(new_model, test_tagged)\n",
    "logreg.fit(X_train, y_train)\n",
    "y_pred = logreg.predict(X_test)\n",
    "print('Testing accuracy %s' % accuracy_score(y_test, y_pred))\n",
    "print('Testing F1 score: {}'.format(f1_score(y_test, y_pred, average='weighted')))"
   ]
  },
  {
   "cell_type": "code",
   "execution_count": null,
   "id": "T1AF4d_GVsoH",
   "metadata": {
    "id": "T1AF4d_GVsoH"
   },
   "outputs": [],
   "source": [
    "# temprory use\n",
    "# y_test = np.asarray(y_test)\n",
    "\n",
    "# matchedJdsindexList = []\n",
    "\n",
    "# for i, _ in np.ndenumerate(y_test):\n",
    "#   if y_test[i]==y_pred[i]:\n",
    "#     matchedJdsindexList.append(i[0])\n",
    "\n",
    "\n",
    "# # importing random module\n",
    "# import random\n",
    "\n",
    "# for idx in random.sample(matchedJdsindexList, 10):\n",
    "#   print('jd number :',idx+2)\n",
    "#   print('\\n')\n",
    "#   print('title')\n",
    "#   print(jdDataSet['title'][idx])\n",
    "#   print('\\n')\n",
    "#   print('description')\n",
    "#   print(jdDataSet['description'][idx])\n",
    "#   print('\\n')\n",
    "#   print('skills')\n",
    "#   print(jdDataSet['skills'][idx])\n",
    "#   print('--------------------------------------------------')\n"
   ]
  },
  {
   "cell_type": "code",
   "execution_count": null,
   "id": "375c80eb",
   "metadata": {
    "id": "375c80eb"
   },
   "outputs": [],
   "source": [
    "# \"Support Vector Classifier\"\n",
    "  \n",
    "clf = SVC(kernel='linear') \n",
    "\n",
    "# fitting x samples and y classes \n",
    "clf.fit(X_train, y_train)\n",
    "\n",
    "y_pred = clf.predict(X_test)\n",
    "\n",
    "print('Testing accuracy %s' % accuracy_score(y_test, y_pred))\n",
    "print('Testing F1 score: {}'.format(f1_score(y_test, y_pred, average='weighted')))"
   ]
  },
  {
   "cell_type": "code",
   "execution_count": null,
   "id": "cda831b3",
   "metadata": {
    "id": "cda831b3"
   },
   "outputs": [],
   "source": [
    "clf2 = SVC(kernel='poly', degree=2,probability=True)\n",
    "clf2.fit(X_train, y_train)\n",
    "\n",
    "y_pred = clf2.predict(X_test)\n",
    "\n",
    "print('Testing accuracy %s' % accuracy_score(y_test, y_pred))\n",
    "print('Testing F1 score: {}'.format(f1_score(y_test, y_pred, average='weighted')))"
   ]
  },
  {
   "cell_type": "code",
   "execution_count": null,
   "id": "6230c593",
   "metadata": {
    "id": "6230c593"
   },
   "outputs": [],
   "source": [
    "kNeighbors = OneVsRestClassifier(KNeighborsClassifier(5))\n",
    "kNeighbors.fit(X_train, y_train)\n",
    "prediction = kNeighbors.predict(X_test)\n",
    "\n",
    "print('Testing accuracy %s' % accuracy_score(y_test, prediction))\n",
    "print('Testing F1 score: {}'.format(f1_score(y_test, prediction, average='weighted')))\n",
    "\n",
    "print('Accuracy of KNeighbors Classifier on training set: {}'.format(kNeighbors.score(X_train, y_train)))\n",
    "print('Accuracy of KNeighbors Classifier on test set: {}'.format(kNeighbors.score(X_test, y_test)))\n",
    "print(\"\\n Classification report for classifier %s:\\n%s\\n\" % (kNeighbors, metrics.classification_report(y_test, prediction)))"
   ]
  },
  {
   "cell_type": "code",
   "execution_count": null,
   "id": "c0a4d051",
   "metadata": {
    "id": "c0a4d051"
   },
   "outputs": [],
   "source": [
    "lastModel = Pipeline([('Normalizing',MinMaxScaler()),('MultinomialNB',MultinomialNB())])\n",
    "lastModel.fit(X_train, y_train)\n",
    "prediction = lastModel.predict(X_test)\n",
    "\n",
    "print('Testing accuracy %s' % accuracy_score(y_test, prediction))\n",
    "print('Testing F1 score: {}'.format(f1_score(y_test, prediction, average='weighted')))"
   ]
  },
  {
   "cell_type": "code",
   "execution_count": null,
   "id": "c6dca1aa",
   "metadata": {
    "id": "c6dca1aa"
   },
   "outputs": [],
   "source": [
    "# roc = {label: [] for label in jdDataSet['title'].unique()}\n",
    "# for label in jdDataSet['title'].unique():\n",
    "#     clf2.fit(X_train,y_train)\n",
    "#     predictions_proba = clf2.predict_proba(X_test)\n",
    "#     roc[label] += roc_auc_score(predictions_proba[:,1],y_test)\n",
    "#     print(roc[label])"
   ]
  },
  {
   "cell_type": "code",
   "execution_count": null,
   "id": "7sMKeGj6Rjt4",
   "metadata": {
    "id": "7sMKeGj6Rjt4"
   },
   "outputs": [],
   "source": [
    "from sklearn.model_selection import train_test_split\n",
    "from sklearn.feature_extraction.text import TfidfVectorizer\n",
    "from scipy.sparse import hstack\n",
    "\n",
    "requiredText = jdDataSet['cleaned_jd'].values\n",
    "requiredTarget = jdDataSet['title'].values\n",
    "\n",
    "def dummy(doc):\n",
    "    return doc\n",
    "\n",
    "vectorizer = TfidfVectorizer(tokenizer=dummy,preprocessor=dummy)\n",
    "vectorizer.fit(requiredText)\n",
    "WordFeatures = vectorizer.transform(requiredText)"
   ]
  },
  {
   "cell_type": "code",
   "execution_count": null,
   "id": "f-BkTcw6p8Lh",
   "metadata": {
    "id": "f-BkTcw6p8Lh"
   },
   "outputs": [],
   "source": [
    "X_train,X_test,y_train,y_test = train_test_split(WordFeatures,requiredTarget,random_state=0, test_size=0.3)\n",
    "\n",
    "clf = OneVsRestClassifier(KNeighborsClassifier())\n",
    "clf.fit(X_train, y_train)\n",
    "prediction = clf.predict(X_test)\n",
    "print('Accuracy of KNeighbors Classifier on training set: {:.2f}'.format(clf.score(X_train, y_train)))\n",
    "print('Accuracy of KNeighbors Classifier on test set: {:.2f}'.format(clf.score(X_test, y_test)))"
   ]
  },
  {
   "cell_type": "code",
   "execution_count": null,
   "id": "-WSr4OKDqYr8",
   "metadata": {
    "id": "-WSr4OKDqYr8"
   },
   "outputs": [],
   "source": [
    "# model_dbow = Doc2Vec(dm=0, vector_size=300, negative=5, hs=0, min_count=2, sample = 0, workers=cores,alpha=0.065, min_alpha=0.065)\n",
    "# model_dbow.build_vocab([x for x in tqdm(train_tagged.values)])\n",
    "# model_dbow['java developer']"
   ]
  }
 ],
 "metadata": {
  "colab": {
   "name": "Classifier.ipynb",
   "provenance": []
  },
  "kernelspec": {
   "display_name": "Python 3 (ipykernel)",
   "language": "python",
   "name": "python3"
  },
  "language_info": {
   "codemirror_mode": {
    "name": "ipython",
    "version": 3
   },
   "file_extension": ".py",
   "mimetype": "text/x-python",
   "name": "python",
   "nbconvert_exporter": "python",
   "pygments_lexer": "ipython3",
   "version": "3.9.7"
  }
 },
 "nbformat": 4,
 "nbformat_minor": 5
}
