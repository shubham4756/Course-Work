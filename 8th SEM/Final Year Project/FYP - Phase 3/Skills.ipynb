{
 "cells": [
  {
   "cell_type": "code",
   "execution_count": 1,
   "metadata": {
    "colab": {
     "base_uri": "https://localhost:8080/"
    },
    "id": "IrLOEua9OwLd",
    "outputId": "31a8bf3c-0efa-4005-9d1d-1d693f9261d4"
   },
   "outputs": [
    {
     "name": "stdout",
     "output_type": "stream",
     "text": [
      "Requirement already satisfied: tika in c:\\users\\dell\\anaconda3\\lib\\site-packages (1.24)\n",
      "Requirement already satisfied: setuptools in c:\\users\\dell\\anaconda3\\lib\\site-packages (from tika) (58.0.4)\n",
      "Requirement already satisfied: requests in c:\\users\\dell\\anaconda3\\lib\\site-packages (from tika) (2.26.0)\n",
      "Requirement already satisfied: certifi>=2017.4.17 in c:\\users\\dell\\anaconda3\\lib\\site-packages (from requests->tika) (2021.10.8)\n",
      "Requirement already satisfied: idna<4,>=2.5 in c:\\users\\dell\\anaconda3\\lib\\site-packages (from requests->tika) (3.2)\n",
      "Requirement already satisfied: urllib3<1.27,>=1.21.1 in c:\\users\\dell\\anaconda3\\lib\\site-packages (from requests->tika) (1.26.7)\n",
      "Requirement already satisfied: charset-normalizer~=2.0.0 in c:\\users\\dell\\anaconda3\\lib\\site-packages (from requests->tika) (2.0.4)\n",
      "Requirement already satisfied: nltk in c:\\users\\dell\\anaconda3\\lib\\site-packages (3.6.5)\n",
      "Requirement already satisfied: click in c:\\users\\dell\\anaconda3\\lib\\site-packages (from nltk) (8.0.3)\n",
      "Requirement already satisfied: joblib in c:\\users\\dell\\anaconda3\\lib\\site-packages (from nltk) (1.1.0)\n",
      "Requirement already satisfied: regex>=2021.8.3 in c:\\users\\dell\\anaconda3\\lib\\site-packages (from nltk) (2021.8.3)\n",
      "Requirement already satisfied: tqdm in c:\\users\\dell\\anaconda3\\lib\\site-packages (from nltk) (4.62.3)\n",
      "Requirement already satisfied: colorama in c:\\users\\dell\\anaconda3\\lib\\site-packages (from click->nltk) (0.4.4)\n"
     ]
    }
   ],
   "source": [
    "!pip install tika\n",
    "!pip install nltk"
   ]
  },
  {
   "cell_type": "code",
   "execution_count": 2,
   "metadata": {
    "colab": {
     "base_uri": "https://localhost:8080/"
    },
    "id": "m245nSCaQRYj",
    "outputId": "270c5795-187a-4cbf-a95c-bd00dcd39078"
   },
   "outputs": [
    {
     "name": "stderr",
     "output_type": "stream",
     "text": [
      "[nltk_data] Downloading package punkt to\n",
      "[nltk_data]     C:\\Users\\DELL\\AppData\\Roaming\\nltk_data...\n",
      "[nltk_data]   Package punkt is already up-to-date!\n",
      "[nltk_data] Downloading package averaged_perceptron_tagger to\n",
      "[nltk_data]     C:\\Users\\DELL\\AppData\\Roaming\\nltk_data...\n",
      "[nltk_data]   Package averaged_perceptron_tagger is already up-to-\n",
      "[nltk_data]       date!\n"
     ]
    }
   ],
   "source": [
    "import nltk, os, subprocess, code, glob, re, traceback, sys, inspect\n",
    "from tika import parser\n",
    "import re\n",
    "nltk.download('punkt')\n",
    "nltk.download('averaged_perceptron_tagger')\n",
    "\n",
    "# tokenize\n",
    "def preprocess(document):\n",
    "    try:\n",
    "        try:\n",
    "            document = document.decode('ascii', 'ignore')\n",
    "        except:\n",
    "            document = document.encode('ascii', 'ignore')\n",
    "        lines = [el.strip() for el in document.split(\"\\n\") if len(el) > 0]  # Splitting on the basis of newlines \n",
    "        \n",
    "        return lines\n",
    "    except Exception as e:\n",
    "        print(e)"
   ]
  },
  {
   "cell_type": "code",
   "execution_count": 3,
   "metadata": {
    "id": "69zYhYqUReIx"
   },
   "outputs": [],
   "source": [
    "sections = [\"education\", \"project\", \"projects\", \"experience\", \"intersets\", \"hobbies\", \"hobby\", \"interest\", \"certificate\", \"skills\", \n",
    "            \"skill\",\"technical skills\",\"skills and development tools\", \"certificats\", \"internship\", \"certifications\", \"achievements\", \n",
    "            \"achievement\", \"afffiliations\", \"afffiliation\", \"Training\", \"workshop\", \"work\", \"references\", \"reference\", \"interests\"]\n",
    "\n",
    "def collectSkills(lines) :\n",
    "    flag = False\n",
    "    skills = []\n",
    "    for line in lines :\n",
    "        res = line != '' and all(chr.isalpha() or chr.isspace() for chr in line)\n",
    "        lastRemove = False\n",
    "        if flag:\n",
    "            skills.append(line)\n",
    "        if res:\n",
    "            str = line.lower()\n",
    "            if str in sections:\n",
    "                if str in {\"skill\", \"skills\",\"technical skills\",\"skills and development tools\"}:\n",
    "                    flag = True\n",
    "                elif flag:\n",
    "                    flag = False\n",
    "                    lastRemove = True\n",
    "        if lastRemove:\n",
    "            skills.pop()\n",
    "    return skills"
   ]
  },
  {
   "cell_type": "code",
   "execution_count": 4,
   "metadata": {
    "id": "aDP4ekpPDXWE"
   },
   "outputs": [],
   "source": [
    "def cleanSkills(resumeText):\n",
    "    resumeText = re.sub('http\\S+\\s*', ' ', resumeText)  # remove URLs\n",
    "    resumeText = re.sub('RT|cc', ' ', resumeText)  # remove RT and cc\n",
    "    resumeText = re.sub('#\\S+', ' ', resumeText)  # remove hashtags\n",
    "    resumeText = re.sub('@\\S+', ' ', resumeText)  # remove mentions\n",
    "    resumeText = re.sub('[%s]' % re.escape(\"\"\"!\"$%&'()*,-./:;<=>?@[\\]^_`{|}~\"\"\"), ' ', resumeText)  # remove punctuations\n",
    "    resumeText = re.sub(r'[^\\x00-\\x7f]',r' ', resumeText) \n",
    "    resumeText = re.sub('\\s+', ' ', resumeText)  # remove extra whitespace\n",
    "    return resumeText"
   ]
  },
  {
   "cell_type": "code",
   "execution_count": 5,
   "metadata": {
    "colab": {
     "base_uri": "https://localhost:8080/"
    },
    "id": "Jep4N0dJxwPX",
    "outputId": "51359a40-62bd-4e86-cf21-412f99a600f4"
   },
   "outputs": [
    {
     "data": {
      "text/plain": [
       "[[],\n",
       " [],\n",
       " ['CS', 'Fundamentals', 'Data', 'Structures'],\n",
       " [],\n",
       " ['Algorithms', 'DBMS', 'OOPS'],\n",
       " [],\n",
       " ['Programming', 'Languages', 'C++', 'Java', 'C'],\n",
       " [],\n",
       " ['Web', 'Technologies', 'Spring', 'Boot', 'Html'],\n",
       " [],\n",
       " ['Data', 'Management', 'MySQL', 'MongoDB'],\n",
       " [],\n",
       " ['Tools', 'Android', 'Studio', 'VS', 'Code', 'IntelliJ'],\n",
       " []]"
      ]
     },
     "execution_count": 5,
     "metadata": {},
     "output_type": "execute_result"
    }
   ],
   "source": [
    "filename = 'jigar.pdf'\n",
    "\n",
    "parsed_pdf = parser.from_file(filename)\n",
    "\n",
    "data = parsed_pdf['content']\n",
    "\n",
    "file1 = open(\"data.txt\",\"w\",encoding=\"utf-8\")\n",
    "file1.write(data)\n",
    "file1.close()\n",
    "\n",
    "#open text file in read mode\n",
    "text_file = open(\"data.txt\", \"rb\")\n",
    "\n",
    "#read whole file to a string\n",
    "data = text_file.read()\n",
    "\n",
    "#close file\n",
    "text_file.close()\n",
    "\n",
    "lines = preprocess(data)\n",
    "\n",
    "skillsList = collectSkills(lines)\n",
    "skillsList = [cleanSkills(skills) for skills in skillsList]\n",
    "skillsList = [nltk.word_tokenize(skills) for skills in skillsList]\n",
    "skillsList"
   ]
  },
  {
   "cell_type": "code",
   "execution_count": 6,
   "metadata": {
    "colab": {
     "base_uri": "https://localhost:8080/"
    },
    "id": "rOOhztwFAxm6",
    "outputId": "1c073cfc-7719-4c12-a2e4-14899e6ee9e9"
   },
   "outputs": [
    {
     "data": {
      "text/plain": [
       "['CS',\n",
       " 'Fundamentals',\n",
       " 'Data',\n",
       " 'Structures',\n",
       " 'Algorithms',\n",
       " 'DBMS',\n",
       " 'OOPS',\n",
       " 'Programming',\n",
       " 'Languages',\n",
       " 'C++',\n",
       " 'Java',\n",
       " 'C',\n",
       " 'Web',\n",
       " 'Technologies',\n",
       " 'Spring',\n",
       " 'Boot',\n",
       " 'Html',\n",
       " 'Data',\n",
       " 'Management',\n",
       " 'MySQL',\n",
       " 'MongoDB',\n",
       " 'Tools',\n",
       " 'Android',\n",
       " 'Studio',\n",
       " 'VS',\n",
       " 'Code',\n",
       " 'IntelliJ']"
      ]
     },
     "execution_count": 6,
     "metadata": {},
     "output_type": "execute_result"
    }
   ],
   "source": [
    "skillSet = []\n",
    "for skills in skillsList:\n",
    "    for skill in skills:\n",
    "        skillSet.append(skill)\n",
    "skillSet"
   ]
  }
 ],
 "metadata": {
  "colab": {
   "name": "Skills.ipynb",
   "provenance": []
  },
  "kernelspec": {
   "display_name": "Python 3 (ipykernel)",
   "language": "python",
   "name": "python3"
  },
  "language_info": {
   "codemirror_mode": {
    "name": "ipython",
    "version": 3
   },
   "file_extension": ".py",
   "mimetype": "text/x-python",
   "name": "python",
   "nbconvert_exporter": "python",
   "pygments_lexer": "ipython3",
   "version": "3.9.7"
  }
 },
 "nbformat": 4,
 "nbformat_minor": 1
}
