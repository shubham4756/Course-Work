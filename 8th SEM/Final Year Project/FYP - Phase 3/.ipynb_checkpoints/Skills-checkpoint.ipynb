{
 "cells": [
  {
   "cell_type": "code",
   "execution_count": null,
   "metadata": {
    "colab": {
     "base_uri": "https://localhost:8080/"
    },
    "id": "IrLOEua9OwLd",
    "outputId": "31a8bf3c-0efa-4005-9d1d-1d693f9261d4"
   },
   "outputs": [
    {
     "name": "stdout",
     "output_type": "stream",
     "text": [
      "Collecting tika\n",
      "  Downloading tika-1.24.tar.gz (28 kB)\n",
      "Requirement already satisfied: setuptools in /usr/local/lib/python3.7/dist-packages (from tika) (57.4.0)\n",
      "Requirement already satisfied: requests in /usr/local/lib/python3.7/dist-packages (from tika) (2.23.0)\n",
      "Requirement already satisfied: chardet<4,>=3.0.2 in /usr/local/lib/python3.7/dist-packages (from requests->tika) (3.0.4)\n",
      "Requirement already satisfied: certifi>=2017.4.17 in /usr/local/lib/python3.7/dist-packages (from requests->tika) (2021.10.8)\n",
      "Requirement already satisfied: idna<3,>=2.5 in /usr/local/lib/python3.7/dist-packages (from requests->tika) (2.10)\n",
      "Requirement already satisfied: urllib3!=1.25.0,!=1.25.1,<1.26,>=1.21.1 in /usr/local/lib/python3.7/dist-packages (from requests->tika) (1.24.3)\n",
      "Building wheels for collected packages: tika\n",
      "  Building wheel for tika (setup.py) ... \u001b[?25l\u001b[?25hdone\n",
      "  Created wheel for tika: filename=tika-1.24-py3-none-any.whl size=32893 sha256=0bf495380d6961a4cf34cc24379a341765d5fd64dc5978f294825737ba14f1a4\n",
      "  Stored in directory: /root/.cache/pip/wheels/ec/2b/38/58ff05467a742e32f67f5d0de048fa046e764e2fbb25ac93f3\n",
      "Successfully built tika\n",
      "Installing collected packages: tika\n",
      "Successfully installed tika-1.24\n",
      "Requirement already satisfied: nltk in /usr/local/lib/python3.7/dist-packages (3.2.5)\n",
      "Requirement already satisfied: six in /usr/local/lib/python3.7/dist-packages (from nltk) (1.15.0)\n"
     ]
    }
   ],
   "source": [
    "!pip install tika\n",
    "!pip install nltk"
   ]
  },
  {
   "cell_type": "code",
   "execution_count": null,
   "metadata": {
    "colab": {
     "base_uri": "https://localhost:8080/"
    },
    "id": "m245nSCaQRYj",
    "outputId": "270c5795-187a-4cbf-a95c-bd00dcd39078"
   },
   "outputs": [
    {
     "name": "stdout",
     "output_type": "stream",
     "text": [
      "[nltk_data] Downloading package punkt to /root/nltk_data...\n",
      "[nltk_data]   Unzipping tokenizers/punkt.zip.\n",
      "[nltk_data] Downloading package averaged_perceptron_tagger to\n",
      "[nltk_data]     /root/nltk_data...\n",
      "[nltk_data]   Unzipping taggers/averaged_perceptron_tagger.zip.\n"
     ]
    }
   ],
   "source": [
    "import nltk, os, subprocess, code, glob, re, traceback, sys, inspect\n",
    "from tika import parser\n",
    "import re\n",
    "nltk.download('punkt')\n",
    "nltk.download('averaged_perceptron_tagger')\n",
    "\n",
    "# tokenize\n",
    "def preprocess(document):\n",
    "    try:\n",
    "        try:\n",
    "            document = document.decode('ascii', 'ignore')\n",
    "        except:\n",
    "            document = document.encode('ascii', 'ignore')\n",
    "        lines = [el.strip() for el in document.split(\"\\n\") if len(el) > 0]  # Splitting on the basis of newlines \n",
    "        \n",
    "        return lines\n",
    "    except Exception as e:\n",
    "        print(e)"
   ]
  },
  {
   "cell_type": "code",
   "execution_count": null,
   "metadata": {
    "id": "69zYhYqUReIx"
   },
   "outputs": [],
   "source": [
    "sections = [\"education\", \"project\", \"projects\", \"experience\", \"intersets\", \"hobbies\", \"hobby\", \"interest\", \"certificate\", \"skills\", \n",
    "            \"skill\",\"technical skills\",\"skills and development tools\", \"certificats\", \"internship\", \"certifications\", \"achievements\", \n",
    "            \"achievement\", \"afffiliations\", \"afffiliation\", \"Training\", \"workshop\", \"work\", \"references\", \"reference\", \"interests\"]\n",
    "\n",
    "def collectSkills(lines) :\n",
    "    flag = False\n",
    "    skills = []\n",
    "    for line in lines :\n",
    "        res = line != '' and all(chr.isalpha() or chr.isspace() for chr in line)\n",
    "        lastRemove = False\n",
    "        if flag:\n",
    "            skills.append(line)\n",
    "        if res:\n",
    "            str = line.lower()\n",
    "        if str in sections:\n",
    "            if str in {\"skill\", \"skills\",\"technical skills\",\"skills and development tools\"}:\n",
    "                flag = True\n",
    "            elif flag:\n",
    "                flag = False\n",
    "        lastRemove = True\n",
    "        if lastRemove:\n",
    "            skills.pop()\n",
    "return skills"
   ]
  },
  {
   "cell_type": "code",
   "execution_count": null,
   "metadata": {
    "id": "aDP4ekpPDXWE"
   },
   "outputs": [],
   "source": [
    "def cleanSkills(resumeText):\n",
    "    resumeText = re.sub('http\\S+\\s*', ' ', resumeText)  # remove URLs\n",
    "    resumeText = re.sub('RT|cc', ' ', resumeText)  # remove RT and cc\n",
    "    resumeText = re.sub('#\\S+', ' ', resumeText)  # remove hashtags\n",
    "    resumeText = re.sub('@\\S+', ' ', resumeText)  # remove mentions\n",
    "    resumeText = re.sub('[%s]' % re.escape(\"\"\"!\"$%&'()*,-./:;<=>?@[\\]^_`{|}~\"\"\"), ' ', resumeText)  # remove punctuations\n",
    "    resumeText = re.sub(r'[^\\x00-\\x7f]',r' ', resumeText) \n",
    "    resumeText = re.sub('\\s+', ' ', resumeText)  # remove extra whitespace\n",
    "    return resumeText"
   ]
  },
  {
   "cell_type": "code",
   "execution_count": null,
   "metadata": {
    "colab": {
     "base_uri": "https://localhost:8080/"
    },
    "id": "Jep4N0dJxwPX",
    "outputId": "51359a40-62bd-4e86-cf21-412f99a600f4"
   },
   "outputs": [
    {
     "name": "stderr",
     "output_type": "stream",
     "text": [
      "2022-03-05 05:42:14,922 [MainThread  ] [INFO ]  Retrieving http://search.maven.org/remotecontent?filepath=org/apache/tika/tika-server/1.24/tika-server-1.24.jar to /tmp/tika-server.jar.\n",
      "2022-03-05 05:42:15,513 [MainThread  ] [INFO ]  Retrieving http://search.maven.org/remotecontent?filepath=org/apache/tika/tika-server/1.24/tika-server-1.24.jar.md5 to /tmp/tika-server.jar.md5.\n",
      "2022-03-05 05:42:15,945 [MainThread  ] [WARNI]  Failed to see startup log message; retrying...\n"
     ]
    },
    {
     "data": {
      "text/plain": [
       "[[],\n",
       " ['CS', 'Fundamentals', 'Data', 'Structures'],\n",
       " ['Algorithms', 'DBMS', 'OOPS'],\n",
       " ['Programming', 'Languages', 'C++', 'Java', 'C'],\n",
       " ['Web', 'Technologies', 'Spring', 'Boot', 'Html'],\n",
       " ['Data', 'Management', 'MySQL', 'MongoDB'],\n",
       " ['Tools', 'Android', 'Studio', 'VS', 'Code', 'IntelliJ'],\n",
       " []]"
      ]
     },
     "execution_count": 6,
     "metadata": {},
     "output_type": "execute_result"
    }
   ],
   "source": [
    "filename = 'jigar.pdf'\n",
    "\n",
    "parsed_pdf = parser.from_file(filename)\n",
    "\n",
    "data = parsed_pdf['content']\n",
    "\n",
    "file1 = open(\"data.txt\",\"w\",encoding=\"utf-8\")\n",
    "file1.write(data)\n",
    "file1.close()\n",
    "\n",
    "#open text file in read mode\n",
    "text_file = open(\"data.txt\", \"rb\")\n",
    "\n",
    "#read whole file to a string\n",
    "data = text_file.read()\n",
    "\n",
    "#close file\n",
    "text_file.close()\n",
    "\n",
    "lines = preprocess(data)\n",
    "\n",
    "skillsList = collectSkills(lines)\n",
    "skillsList = [cleanSkills(skills) for skills in skillsList]\n",
    "skillsList = [nltk.word_tokenize(skills) for skills in skillsList]\n",
    "skillsList"
   ]
  },
  {
   "cell_type": "markdown",
   "metadata": {
    "id": "Z60cGgB_l71U"
   },
   "source": [
    "# New Section"
   ]
  },
  {
   "cell_type": "code",
   "execution_count": null,
   "metadata": {
    "colab": {
     "base_uri": "https://localhost:8080/"
    },
    "id": "rOOhztwFAxm6",
    "outputId": "1c073cfc-7719-4c12-a2e4-14899e6ee9e9"
   },
   "outputs": [
    {
     "data": {
      "text/plain": [
       "['CS',\n",
       " 'Fundamentals',\n",
       " 'Data',\n",
       " 'Structures',\n",
       " 'Algorithms',\n",
       " 'DBMS',\n",
       " 'OOPS',\n",
       " 'Programming',\n",
       " 'Languages',\n",
       " 'C++',\n",
       " 'Java',\n",
       " 'C',\n",
       " 'Web',\n",
       " 'Technologies',\n",
       " 'Spring',\n",
       " 'Boot',\n",
       " 'Html',\n",
       " 'Data',\n",
       " 'Management',\n",
       " 'MySQL',\n",
       " 'MongoDB',\n",
       " 'Tools',\n",
       " 'Android',\n",
       " 'Studio',\n",
       " 'VS',\n",
       " 'Code',\n",
       " 'IntelliJ']"
      ]
     },
     "execution_count": 56,
     "metadata": {},
     "output_type": "execute_result"
    }
   ],
   "source": [
    "skillSet = []\n",
    "for skills in skillsList:\n",
    "    for skill in skills:\n",
    "    skillSet.append(skill)\n",
    "skillSet"
   ]
  }
 ],
 "metadata": {
  "colab": {
   "name": "Skills.ipynb",
   "provenance": []
  },
  "kernelspec": {
   "display_name": "Python 3 (ipykernel)",
   "language": "python",
   "name": "python3"
  },
  "language_info": {
   "codemirror_mode": {
    "name": "ipython",
    "version": 3
   },
   "file_extension": ".py",
   "mimetype": "text/x-python",
   "name": "python",
   "nbconvert_exporter": "python",
   "pygments_lexer": "ipython3",
   "version": "3.9.7"
  }
 },
 "nbformat": 4,
 "nbformat_minor": 1
}
