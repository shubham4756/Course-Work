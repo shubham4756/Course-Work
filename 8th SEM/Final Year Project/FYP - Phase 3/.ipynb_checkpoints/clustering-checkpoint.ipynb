{
 "cells": [
  {
   "cell_type": "code",
   "execution_count": null,
   "metadata": {
    "colab": {
     "base_uri": "https://localhost:8080/"
    },
    "id": "i2yPzPTm2tE6",
    "outputId": "c6c0679d-a10a-4a67-d80b-0940cf15bc70"
   },
   "outputs": [
    {
     "name": "stdout",
     "output_type": "stream",
     "text": [
      "[nltk_data] Downloading package wordnet to /root/nltk_data...\n",
      "[nltk_data]   Package wordnet is already up-to-date!\n",
      "[nltk_data] Downloading package averaged_perceptron_tagger to\n",
      "[nltk_data]     /root/nltk_data...\n",
      "[nltk_data]   Package averaged_perceptron_tagger is already up-to-\n",
      "[nltk_data]       date!\n"
     ]
    },
    {
     "data": {
      "text/plain": [
       "True"
      ]
     },
     "execution_count": 5,
     "metadata": {},
     "output_type": "execute_result"
    }
   ],
   "source": [
    "import pickle\n",
    "import pandas as pd\n",
    "import numpy\n",
    "import re\n",
    "import os\n",
    "import numpy as np\n",
    "import gensim\n",
    "from sklearn.cluster import KMeans\n",
    "from sklearn.decomposition import PCA\n",
    "from gensim.models import Doc2Vec\n",
    "from gensim.parsing.preprocessing import remove_stopwords\n",
    "from gensim.utils import simple_preprocess\n",
    "import nltk\n",
    "import matplotlib.pyplot as plt\n",
    "nltk.download('wordnet')\n",
    "nltk.download('averaged_perceptron_tagger')"
   ]
  },
  {
   "cell_type": "code",
   "execution_count": null,
   "metadata": {
    "id": "cQ15tJW050vC"
   },
   "outputs": [],
   "source": [
    "def clean(text):\n",
    "    text = re.sub('http\\S+\\s*', ' ', text)  # remove URLs\n",
    "    text = re.sub('RT|cc', ' ', text)  # remove RT and cc\n",
    "    text = re.sub('#\\S+', '', text)  # remove hashtags\n",
    "    text = re.sub('@\\S+', '  ', text)  # remove mentions\n",
    "    text = re.sub('[%s]' % re.escape(\"\"\"!\"$%&'()*,-/:;<=>?@[\\]^_`{|}~\"\"\"), ' ', text)  # remove punctuations\n",
    "    text = re.sub(r'[^\\x00-\\x7f]',r' ', text) \n",
    "    text = re.sub('\\s+', ' ', text)  # remove extra whitespace\n",
    "    return text.lower()"
   ]
  },
  {
   "cell_type": "code",
   "execution_count": null,
   "metadata": {
    "id": "2ldsWtGy52_J"
   },
   "outputs": [],
   "source": [
    "def extractNoun(wordsList):\n",
    "    tagged = nltk.pos_tag(wordsList)\n",
    "    filtered_pos = []\n",
    "    for one in tagged:\n",
    "        if one[1] == 'NN' or one[1] == 'NNS' or one[1] == 'NNP' or one[1] == 'NNPS':\n",
    "            filtered_pos.append(one[0])\n",
    "    return filtered_pos"
   ]
  },
  {
   "cell_type": "code",
   "execution_count": null,
   "metadata": {
    "colab": {
     "base_uri": "https://localhost:8080/"
    },
    "id": "z0U1CIOh2tJU",
    "outputId": "13cb142e-eb3c-4fd2-9d82-a926f48d8da0"
   },
   "outputs": [
    {
     "data": {
      "text/plain": [
       "0      [skills, languages, scipy, scikit, matplotlib,...\n",
       "1      [education, details, rgpv, data, scientist, da...\n",
       "2      [areas, control, design, python, machinery, we...\n",
       "3      [skills, hana, tableau, sap, hana, sql, sap, h...\n",
       "4      [education, details, haryana, data, science, i...\n",
       "                             ...                        \n",
       "668    [skills, office, word, power, point, strength,...\n",
       "669    [willingness, challenges, learner, team, playe...\n",
       "670    [skills, learner, eagerness, things, leadershi...\n",
       "671    [skills, software, knowledge, ms, power, point...\n",
       "672    [skill, windows, database, mysql, sql, server,...\n",
       "Name: cleaned_resume, Length: 673, dtype: object"
      ]
     },
     "execution_count": 26,
     "metadata": {},
     "output_type": "execute_result"
    }
   ],
   "source": [
    "df = pd.read_excel('resume_dataset.xlsx')\n",
    "df['cleaned_resume'] = ''\n",
    "\n",
    "#cleaning data\n",
    "df['cleaned_resume'] = df.resume.apply(lambda x: clean(x))\n",
    "\n",
    "# Removing the stop words\n",
    "df['cleaned_resume'] = df.cleaned_resume.apply(lambda x: remove_stopwords(x))\n",
    "\n",
    "# Removing skills from job desctiption\n",
    "# df['cleaned_resume'] = df.cleaned_resume.apply(lambda x: extractSkills(x))\n",
    "\n",
    "# Tokenize the text column\n",
    "df['cleaned_resume'] = [simple_preprocess(line, deacc=True) for line in df['cleaned_resume']] \n",
    "\n",
    "# Get the stemmed_tokens\n",
    "# porter_stemmer = PorterStemmer()\n",
    "# df['cleaned_resume'] = [[porter_stemmer.stem(word) for word in tokens] for tokens in df['cleaned_resume'] ]\n",
    "\n",
    "# get the lammatized tokens\n",
    "# lemmatizer = WordNetLemmatizer() \n",
    "# df['cleaned_resume'] = [[lemmatizer.lemmatize(word) for word in tokens] for tokens in df['cleaned_resume'] ]\n",
    "\n",
    "# extract only noun \n",
    "df['cleaned_resume'] = df.cleaned_resume.apply(lambda x: extractNoun(x))\n",
    "\n",
    "df['cleaned_resume']"
   ]
  },
  {
   "cell_type": "code",
   "execution_count": null,
   "metadata": {
    "colab": {
     "base_uri": "https://localhost:8080/"
    },
    "id": "7ocv8S2O3LkX",
    "outputId": "2c194f2f-761f-4b7a-bfde-291c4ad501d8"
   },
   "outputs": [
    {
     "name": "stdout",
     "output_type": "stream",
     "text": [
      "Number of texts processed:  673\n"
     ]
    }
   ],
   "source": [
    "LabeledSentence1 = gensim.models.doc2vec.TaggedDocument\n",
    "all_content_train = []\n",
    "j=0\n",
    "for em in df['cleaned_resume'].values:\n",
    "    all_content_train.append(LabeledSentence1(em,[j]))\n",
    "    j+=1\n",
    "print(\"Number of texts processed: \", j)"
   ]
  },
  {
   "cell_type": "code",
   "execution_count": null,
   "metadata": {
    "colab": {
     "base_uri": "https://localhost:8080/"
    },
    "id": "_fhfTu_L3vuQ",
    "outputId": "5a2c47b0-1124-4434-aa2c-74a3f9e82555"
   },
   "outputs": [
    {
     "name": "stderr",
     "output_type": "stream",
     "text": [
      "/usr/local/lib/python3.7/dist-packages/gensim/models/doc2vec.py:570: UserWarning: The parameter `size` is deprecated, will be removed in 4.0.0, use `vector_size` instead.\n",
      "  warnings.warn(\"The parameter `size` is deprecated, will be removed in 4.0.0, use `vector_size` instead.\")\n"
     ]
    }
   ],
   "source": [
    "d2v_model = Doc2Vec(all_content_train, size = 400, window = 10, min_count = 500, workers=7, dm = 1,alpha=0.025, min_alpha=0.001)\n",
    "d2v_model.train(all_content_train, total_examples=d2v_model.corpus_count, epochs=10, start_alpha=0.002, end_alpha=-0.016)"
   ]
  },
  {
   "cell_type": "code",
   "execution_count": null,
   "metadata": {
    "colab": {
     "base_uri": "https://localhost:8080/",
     "height": 819
    },
    "id": "ITa2M-MJ3x9r",
    "outputId": "65bced49-8b9c-43d2-e2d9-6c65ca9ae827"
   },
   "outputs": [
    {
     "name": "stderr",
     "output_type": "stream",
     "text": [
      "/usr/local/lib/python3.7/dist-packages/ipykernel_launcher.py:4: DeprecationWarning: Call to deprecated `doctag_syn0` (Attribute will be removed in 4.0.0, use docvecs.vectors_docs instead).\n",
      "  after removing the cwd from sys.path.\n",
      "/usr/local/lib/python3.7/dist-packages/ipykernel_launcher.py:4: DeprecationWarning: Call to deprecated `doctag_syn0` (Attribute will be removed in 4.0.0, use docvecs.vectors_docs instead).\n",
      "  after removing the cwd from sys.path.\n",
      "/usr/local/lib/python3.7/dist-packages/ipykernel_launcher.py:4: DeprecationWarning: Call to deprecated `doctag_syn0` (Attribute will be removed in 4.0.0, use docvecs.vectors_docs instead).\n",
      "  after removing the cwd from sys.path.\n",
      "/usr/local/lib/python3.7/dist-packages/ipykernel_launcher.py:4: DeprecationWarning: Call to deprecated `doctag_syn0` (Attribute will be removed in 4.0.0, use docvecs.vectors_docs instead).\n",
      "  after removing the cwd from sys.path.\n",
      "/usr/local/lib/python3.7/dist-packages/ipykernel_launcher.py:4: DeprecationWarning: Call to deprecated `doctag_syn0` (Attribute will be removed in 4.0.0, use docvecs.vectors_docs instead).\n",
      "  after removing the cwd from sys.path.\n",
      "/usr/local/lib/python3.7/dist-packages/ipykernel_launcher.py:4: DeprecationWarning: Call to deprecated `doctag_syn0` (Attribute will be removed in 4.0.0, use docvecs.vectors_docs instead).\n",
      "  after removing the cwd from sys.path.\n",
      "/usr/local/lib/python3.7/dist-packages/ipykernel_launcher.py:4: DeprecationWarning: Call to deprecated `doctag_syn0` (Attribute will be removed in 4.0.0, use docvecs.vectors_docs instead).\n",
      "  after removing the cwd from sys.path.\n",
      "/usr/local/lib/python3.7/dist-packages/ipykernel_launcher.py:4: DeprecationWarning: Call to deprecated `doctag_syn0` (Attribute will be removed in 4.0.0, use docvecs.vectors_docs instead).\n",
      "  after removing the cwd from sys.path.\n",
      "/usr/local/lib/python3.7/dist-packages/ipykernel_launcher.py:4: DeprecationWarning: Call to deprecated `doctag_syn0` (Attribute will be removed in 4.0.0, use docvecs.vectors_docs instead).\n",
      "  after removing the cwd from sys.path.\n",
      "/usr/local/lib/python3.7/dist-packages/ipykernel_launcher.py:4: DeprecationWarning: Call to deprecated `doctag_syn0` (Attribute will be removed in 4.0.0, use docvecs.vectors_docs instead).\n",
      "  after removing the cwd from sys.path.\n",
      "/usr/local/lib/python3.7/dist-packages/ipykernel_launcher.py:4: DeprecationWarning: Call to deprecated `doctag_syn0` (Attribute will be removed in 4.0.0, use docvecs.vectors_docs instead).\n",
      "  after removing the cwd from sys.path.\n",
      "/usr/local/lib/python3.7/dist-packages/ipykernel_launcher.py:4: DeprecationWarning: Call to deprecated `doctag_syn0` (Attribute will be removed in 4.0.0, use docvecs.vectors_docs instead).\n",
      "  after removing the cwd from sys.path.\n",
      "/usr/local/lib/python3.7/dist-packages/ipykernel_launcher.py:4: DeprecationWarning: Call to deprecated `doctag_syn0` (Attribute will be removed in 4.0.0, use docvecs.vectors_docs instead).\n",
      "  after removing the cwd from sys.path.\n",
      "/usr/local/lib/python3.7/dist-packages/ipykernel_launcher.py:4: DeprecationWarning: Call to deprecated `doctag_syn0` (Attribute will be removed in 4.0.0, use docvecs.vectors_docs instead).\n",
      "  after removing the cwd from sys.path.\n",
      "/usr/local/lib/python3.7/dist-packages/ipykernel_launcher.py:4: DeprecationWarning: Call to deprecated `doctag_syn0` (Attribute will be removed in 4.0.0, use docvecs.vectors_docs instead).\n",
      "  after removing the cwd from sys.path.\n"
     ]
    },
    {
     "data": {
      "image/png": "[encoded data removed]",
      "text/plain": [
       "<Figure size 432x288 with 1 Axes>"
      ]
     },
     "metadata": {
      "needs_background": "light"
     },
     "output_type": "display_data"
    }
   ],
   "source": [
    "cost = []\n",
    "for i in range(1, 16):\n",
    "    kmeans_model = KMeans(n_clusters=i, init='k-means++', max_iter=600) \n",
    "    X = kmeans_model.fit(d2v_model.docvecs.doctag_syn0)\n",
    "    cost.append(X.inertia_)\n",
    "\n",
    "# plot the cost against K values\n",
    "plt.plot(range(1, 16), cost, color ='g', linewidth ='3')\n",
    "plt.xlabel(\"Value of K\")\n",
    "plt.ylabel(\"Squared Error (Cost)\")\n",
    "plt.show() # clear the plot\n",
    "\n",
    "# labels=kmeans_model.labels_.tolist()\n",
    "# l = kmeans_model.fit_predict(d2v_model.docvecs.doctag_syn0)\n",
    "# pca = PCA(n_components=2).fit(d2v_model.docvecs.doctag_syn0)\n",
    "# datapoint = pca.transform(d2v_model.docvecs.doctag_syn0)\n",
    "\n",
    "# import matplotlib.pyplot as plt\n",
    "# %matplotlib inline\n",
    "# plt.figure\n",
    "# label1 = [\"#FFFF00\", \n",
    "#           \"#008000\", \n",
    "#           \"#0000FF\",\n",
    "#           \"#800080\",\n",
    "#           \"#FF5733\",\n",
    "#           # \"#FFCC33\",\n",
    "#           # \"#33FFBC\",\n",
    "#           # \"#339FFF\",\n",
    "#           # \"#BA33FF\",\n",
    "#           \"#FF338E\"]\n",
    "\n",
    "# color = [label1[i] for i in labels]\n",
    "# plt.scatter(datapoint[:, 0], datapoint[:, 1], c=color)\n",
    "# centroids = kmeans_model.cluster_centers_\n",
    "# centroidpoint = pca.transform(centroids)\n",
    "# plt.scatter(centroidpoint[:, 0], centroidpoint[:, 1], marker='^', s=150, c='#000000')\n",
    "# plt.show()\n",
    "\n",
    "# print(X.labels_)"
   ]
  },
  {
   "cell_type": "code",
   "execution_count": null,
   "metadata": {
    "colab": {
     "base_uri": "https://localhost:8080/",
     "height": 789
    },
    "id": "X6Wlh8fj4G_c",
    "outputId": "c57e2521-9869-49ff-aa19-494669d9a5d2"
   },
   "outputs": [
    {
     "name": "stderr",
     "output_type": "stream",
     "text": [
      "/usr/local/lib/python3.7/dist-packages/ipykernel_launcher.py:2: DeprecationWarning: Call to deprecated `doctag_syn0` (Attribute will be removed in 4.0.0, use docvecs.vectors_docs instead).\n",
      "  \n",
      "/usr/local/lib/python3.7/dist-packages/ipykernel_launcher.py:12: DeprecationWarning: Call to deprecated `doctag_syn0` (Attribute will be removed in 4.0.0, use docvecs.vectors_docs instead).\n",
      "  if sys.path[0] == '':\n",
      "/usr/local/lib/python3.7/dist-packages/ipykernel_launcher.py:13: DeprecationWarning: Call to deprecated `doctag_syn0` (Attribute will be removed in 4.0.0, use docvecs.vectors_docs instead).\n",
      "  del sys.path[0]\n",
      "/usr/local/lib/python3.7/dist-packages/ipykernel_launcher.py:14: DeprecationWarning: Call to deprecated `doctag_syn0` (Attribute will be removed in 4.0.0, use docvecs.vectors_docs instead).\n",
      "  \n"
     ]
    },
    {
     "data": {
      "image/png": "[encoded data removed]",
      "text/plain": [
       "<Figure size 432x288 with 1 Axes>"
      ]
     },
     "metadata": {
      "needs_background": "light"
     },
     "output_type": "display_data"
    },
    {
     "data": {
      "text/plain": [
       "<Figure size 7.2e+06x7.2e+06 with 0 Axes>"
      ]
     },
     "metadata": {},
     "output_type": "display_data"
    },
    {
     "name": "stdout",
     "output_type": "stream",
     "text": [
      "[0 8 4 0 8 8 5 5 8 7 0 5 0 0 8 8 2 9 2 8 8 8 2 8 2 2 2 2 2 5 2 2 2 8 8 2 0\n",
      " 8 1 0 2 1 2 2 1 2 1 2 2 2 1 5 8 8 5 0 8 0 8 2 8 8 5 5 5 5 5 8 2 1 8 5 5 0\n",
      " 5 0 5 2 0 2 4 2 8 8 1 2 2 2 8 2 2 1 1 1 2 8 1 8 2 2 1 8 2 8 1 2 1 1 2 2 2\n",
      " 1 8 1 8 8 8 0 2 2 8 8 2 5 0 8 0 0 5 0 7 5 0 8 0 2 4 2 5 8 8 0 8 8 8 2 2 2\n",
      " 8 1 1 1 8 8 4 2 8 2 8 8 2 2 1 2 2 1 1 1 2 8 4 0 6 2 8 0 6 0 2 4 6 4 0 1 4\n",
      " 5 7 4 0 3 3 5 5 7 0 0 2 5 9 0 5 5 8 5 4 1 5 8 8 5 6 8 8 2 5 2 4 1 8 0 0 4\n",
      " 1 8 4 4 0 0 7 5 7 5 5 0 0 1 8 1 2 1 2 6 2 1 2 1 2 6 4 4 6 6 7 7 7 7 7 3 7\n",
      " 6 9 9 6 9 6 4 6 3 3 7 3 3 4 7 6 9 6 9 9 9 6 1 6 4 4 4 6 5 0 8 0 5 8 0 8 2\n",
      " 8 0 5 8 0 0 8 2 8 1 2 2 0 2 2 2 8 8 8 2 8 8 2 1 8 8 8 2 1 8 8 2 0 8 8 8 8\n",
      " 1 2 2 1 8 0 2 0 0 2 8 4 8 4 2 0 2 4 1 2 4 8 2 0 4 1 4 1 8 2 1 2 2 1 2 1 2\n",
      " 1 4 1 8 0 2 8 0 0 2 4 8 5 0 1 2 1 2 2 6 0 0 4 4 6 4 4 6 1 8 4 4 0 6 2 0 6\n",
      " 4 4 6 0 4 6 0 0 0 4 8 4 0 0 8 5 5 8 8 0 2 4 8 8 1 4 1 0 4 0 0 2 1 1 2 4 4\n",
      " 1 2 8 0 4 8 0 4 4 0 2 8 4 4 8 0 8 8 8 8 2 2 8 8 2 5 8 2 2 1 8 2 2 4 2 2 2\n",
      " 1 4 1 4 6 2 1 1 8 4 4 6 1 1 4 4 4 4 2 4 4 0 1 2 8 4 2 4 8 2 1 8 8 2 8 4 2\n",
      " 1 1 8 4 1 4 2 1 4 2 4 5 4 4 2 4 2 2 2 8 2 8 4 2 2 2 5 1 4 4 2 2 1 8 2 2 2\n",
      " 4 8 2 4 2 1 6 8 0 2 8 0 2 0 2 0 5 4 8 2 0 8 8 8 2 8 8 2 5 8 2 0 2 1 8 8 8\n",
      " 0 2 2 8 8 0 2 2 8 5 8 8 8 2 8 8 8 2 5 0 2 8 8 8 8 0 8 2 8 8 8 1 8 0 8 4 2\n",
      " 1 2 5 0 5 0 8 1 2 5 8 0 0 8 2 2 5 8 0 0 8 8 2 2 8 0 8 8 1 0 8 0 2 0 4 2 2\n",
      " 8 0 8 8 2 8 8]\n",
      "1.7704851627349854\n"
     ]
    }
   ],
   "source": [
    "kmeans_model = KMeans(n_clusters=10, init='k-means++', max_iter=600) \n",
    "X = kmeans_model.fit(d2v_model.docvecs.doctag_syn0)\n",
    "# cost.append(X.inertia_)\n",
    "\n",
    "# plot the cost against K values\n",
    "# plt.plot(range(1, 16), cost, color ='g', linewidth ='3')\n",
    "# plt.xlabel(\"Value of K\")\n",
    "# plt.ylabel(\"Squared Error (Cost)\")\n",
    "# plt.show() # clear the plot\n",
    "\n",
    "labels=kmeans_model.labels_.tolist()\n",
    "l = kmeans_model.fit_predict(d2v_model.docvecs.doctag_syn0)\n",
    "pca = PCA(n_components=2).fit(d2v_model.docvecs.doctag_syn0)\n",
    "datapoint = pca.transform(d2v_model.docvecs.doctag_syn0)\n",
    "\n",
    "plt.figure\n",
    "label1 = [\"#FFFF00\", \n",
    "          \"#008000\", \n",
    "          \"#0000FF\",\n",
    "          \"#800080\",\n",
    "          \"#FF5733\",\n",
    "          \"#FFCC33\",\n",
    "          \"#33FFBC\",\n",
    "          \"#339FFF\",\n",
    "          \"#BA33FF\",\n",
    "          \"#FF338E\"]\n",
    "\n",
    "color = [label1[i] for i in labels]\n",
    "plt.scatter(datapoint[:, 0], datapoint[:, 1], c=color)\n",
    "centroids = kmeans_model.cluster_centers_\n",
    "centroidpoint = pca.transform(centroids)\n",
    "# plt.scatter(centroidpoint[:, 0], centroidpoint[:, 1], marker='^', s=250, c='#000000')\n",
    "f = plt.figure()\n",
    "f.set_figwidth(100000)\n",
    "f.set_figheight(100000)\n",
    "plt.show()\n",
    "\n",
    "print(X.labels_)\n",
    "print(X.inertia_)"
   ]
  },
  {
   "cell_type": "code",
   "execution_count": null,
   "metadata": {
    "id": "3SBpSMV5BN4_"
   },
   "outputs": [],
   "source": []
  }
 ],
 "metadata": {
  "colab": {
   "name": "clustering.ipynb",
   "provenance": []
  },
  "kernelspec": {
   "display_name": "Python 3 (ipykernel)",
   "language": "python",
   "name": "python3"
  },
  "language_info": {
   "codemirror_mode": {
    "name": "ipython",
    "version": 3
   },
   "file_extension": ".py",
   "mimetype": "text/x-python",
   "name": "python",
   "nbconvert_exporter": "python",
   "pygments_lexer": "ipython3",
   "version": "3.9.7"
  }
 },
 "nbformat": 4,
 "nbformat_minor": 1
}
